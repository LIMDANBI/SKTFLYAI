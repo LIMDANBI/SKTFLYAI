{
 "cells": [
  {
   "cell_type": "code",
   "execution_count": null,
   "id": "6c7d0bf9",
   "metadata": {},
   "outputs": [
    {
     "name": "stdout",
     "output_type": "stream",
     "text": [
      " * Serving Flask app \"__main__\" (lazy loading)\n",
      " * Environment: production\n",
      "\u001b[31m   WARNING: This is a development server. Do not use it in a production deployment.\u001b[0m\n",
      "\u001b[2m   Use a production WSGI server instead.\u001b[0m\n",
      " * Debug mode: off\n"
     ]
    },
    {
     "name": "stderr",
     "output_type": "stream",
     "text": [
      " * Running on all addresses.\n",
      "   WARNING: This is a development server. Do not use it in a production deployment.\n",
      " * Running on http://172.23.244.218:5000/ (Press CTRL+C to quit)\n",
      "172.23.244.218 - - [11/Aug/2022 15:22:28] \"GET / HTTP/1.1\" 200 -\n",
      "172.23.244.218 - - [11/Aug/2022 15:22:34] \"POST / HTTP/1.1\" 200 -\n",
      "172.23.244.218 - - [11/Aug/2022 15:22:40] \"POST / HTTP/1.1\" 200 -\n",
      "172.23.244.218 - - [11/Aug/2022 15:22:46] \"POST / HTTP/1.1\" 200 -\n",
      "172.23.244.218 - - [11/Aug/2022 15:23:03] \"POST / HTTP/1.1\" 200 -\n",
      "172.23.244.218 - - [11/Aug/2022 15:26:33] \"POST / HTTP/1.1\" 200 -\n"
     ]
    }
   ],
   "source": [
    "from flask import Flask\n",
    "app = Flask(__name__)\n",
    " \n",
    "@app.route('/', methods=['GET', 'POST'])\n",
    "def index():\n",
    "    return '인터넷이 잘 되네요!'\n",
    " \n",
    "if __name__ == \"__main__\":\n",
    "    app.run(host='0.0.0.0')"
   ]
  },
  {
   "cell_type": "code",
   "execution_count": null,
   "id": "1d2b472f",
   "metadata": {},
   "outputs": [],
   "source": []
  }
 ],
 "metadata": {
  "kernelspec": {
   "display_name": "Python 3 (ipykernel)",
   "language": "python",
   "name": "python3"
  },
  "language_info": {
   "codemirror_mode": {
    "name": "ipython",
    "version": 3
   },
   "file_extension": ".py",
   "mimetype": "text/x-python",
   "name": "python",
   "nbconvert_exporter": "python",
   "pygments_lexer": "ipython3",
   "version": "3.9.12"
  }
 },
 "nbformat": 4,
 "nbformat_minor": 5
}
