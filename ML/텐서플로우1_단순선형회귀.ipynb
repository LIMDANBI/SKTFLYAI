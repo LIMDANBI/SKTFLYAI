{
  "cells": [
    {
      "cell_type": "markdown",
      "metadata": {
        "id": "view-in-github",
        "colab_type": "text"
      },
      "source": [
        "<a href=\"https://colab.research.google.com/github/LIMDANBI/SKTFLYAI/blob/main/ML/%E1%84%90%E1%85%A6%E1%86%AB%E1%84%89%E1%85%A5%ED%94%8C%EB%A1%9C%EC%9A%B01_%E1%84%83%E1%85%A1%E1%86%AB%E1%84%89%E1%85%AE%E1%86%AB%E1%84%89%E1%85%A5%E1%86%AB%E1%84%92%E1%85%A7%E1%86%BC%E1%84%92%E1%85%AC%E1%84%80%E1%85%B1.ipynb\" target=\"_parent\"><img src=\"https://colab.research.google.com/assets/colab-badge.svg\" alt=\"Open In Colab\"/></a>"
      ]
    },
    {
      "cell_type": "markdown",
      "id": "e699b3f9-fd73-4dc5-aef8-a668d8ceda7b",
      "metadata": {
        "id": "e699b3f9-fd73-4dc5-aef8-a668d8ceda7b"
      },
      "source": [
        "# 주제 : 단순 선형회귀 (Simple Linear Regression)\n",
        "---"
      ]
    },
    {
      "cell_type": "markdown",
      "id": "545b8d29-97fa-449d-858a-737ca142deab",
      "metadata": {
        "id": "545b8d29-97fa-449d-858a-737ca142deab"
      },
      "source": [
        "Tensorflow의 기능을 이용하여, 선형회귀를 구현한다"
      ]
    },
    {
      "cell_type": "markdown",
      "id": "03a5c59b-66a7-43f0-9660-f33b7b6d3251",
      "metadata": {
        "id": "03a5c59b-66a7-43f0-9660-f33b7b6d3251"
      },
      "source": [
        "### 문제 0. 라이브러리"
      ]
    },
    {
      "cell_type": "code",
      "execution_count": 1,
      "id": "ddd862bd-20cb-4e0b-a4aa-57d341549002",
      "metadata": {
        "id": "ddd862bd-20cb-4e0b-a4aa-57d341549002"
      },
      "outputs": [],
      "source": [
        "import numpy as np\n",
        "import pandas as pd\n",
        "import matplotlib.pyplot as plt\n",
        "\n",
        "import warnings\n",
        "warnings.filterwarnings(action='ignore')"
      ]
    },
    {
      "cell_type": "markdown",
      "id": "9af0247f-bd67-41b3-aebc-81d77aa92435",
      "metadata": {
        "id": "9af0247f-bd67-41b3-aebc-81d77aa92435"
      },
      "source": [
        "### 문제 1. 텐서플로우 버전 확인"
      ]
    },
    {
      "cell_type": "code",
      "execution_count": 2,
      "id": "bab444e3-07e5-498c-8f43-c42e3b01e490",
      "metadata": {
        "id": "bab444e3-07e5-498c-8f43-c42e3b01e490",
        "colab": {
          "base_uri": "https://localhost:8080/"
        },
        "outputId": "18e13db7-b297-4c19-efa5-d1427930f144"
      },
      "outputs": [
        {
          "output_type": "stream",
          "name": "stdout",
          "text": [
            "2.9.1\n"
          ]
        }
      ],
      "source": [
        "import tensorflow as tf\n",
        "\n",
        "print(tf.__version__)"
      ]
    },
    {
      "cell_type": "code",
      "execution_count": 4,
      "id": "36f6c0e4-4039-4b69-ac60-3bc131158980",
      "metadata": {
        "id": "36f6c0e4-4039-4b69-ac60-3bc131158980"
      },
      "outputs": [],
      "source": [
        "# !pip install --upgrade tensorflow"
      ]
    },
    {
      "cell_type": "markdown",
      "id": "bd0ebce3-6e46-4a44-aa8b-09493d43b9df",
      "metadata": {
        "id": "bd0ebce3-6e46-4a44-aa8b-09493d43b9df"
      },
      "source": [
        "### 문제 2. 데이터 만들기"
      ]
    },
    {
      "cell_type": "code",
      "execution_count": 5,
      "id": "5a5f0a69-01e6-4c9d-9ed2-cdafc3fb9b54",
      "metadata": {
        "id": "5a5f0a69-01e6-4c9d-9ed2-cdafc3fb9b54"
      },
      "outputs": [],
      "source": [
        "# 임의 데이터 작성 : [공부 시간, 점수]\n",
        "\n",
        "data = [[2, 81], [4, 93], [6, 91], [8, 97]]\n"
      ]
    },
    {
      "cell_type": "markdown",
      "id": "d8af2d43-d2a3-4ca6-b769-7bcc14c1886d",
      "metadata": {
        "id": "d8af2d43-d2a3-4ca6-b769-7bcc14c1886d"
      },
      "source": [
        "### 문제 2. X, y 데이터로 분리"
      ]
    },
    {
      "cell_type": "markdown",
      "id": "a4903db9-55a7-48df-82ec-e025bb352f5c",
      "metadata": {
        "id": "a4903db9-55a7-48df-82ec-e025bb352f5c"
      },
      "source": [
        "* 종속변수와 독립변수로 분리"
      ]
    },
    {
      "cell_type": "code",
      "execution_count": 7,
      "id": "22b246d6-926e-451d-9cfc-ce4a3b31c349",
      "metadata": {
        "id": "22b246d6-926e-451d-9cfc-ce4a3b31c349",
        "colab": {
          "base_uri": "https://localhost:8080/"
        },
        "outputId": "09ff5d98-0412-477e-80a5-f506a615c1ef"
      },
      "outputs": [
        {
          "output_type": "execute_result",
          "data": {
            "text/plain": [
              "array([2, 4, 6, 8])"
            ]
          },
          "metadata": {},
          "execution_count": 7
        }
      ],
      "source": [
        "# 파이썬의 리스트 내포 \n",
        "\n",
        "X = [i[0] for i in data]\n",
        "y = [i[1] for i in data]\n",
        "\n",
        "X = np.array(X)\n",
        "y = np.array(y)\n",
        "X"
      ]
    },
    {
      "cell_type": "markdown",
      "id": "4ba4b8a4-c0e0-43eb-8aa3-6bc5c81e70bf",
      "metadata": {
        "id": "4ba4b8a4-c0e0-43eb-8aa3-6bc5c81e70bf"
      },
      "source": [
        "### 문제 3. 시각화"
      ]
    },
    {
      "cell_type": "code",
      "execution_count": 8,
      "id": "b998020f-9945-4c42-99c7-a2860429a429",
      "metadata": {
        "id": "b998020f-9945-4c42-99c7-a2860429a429",
        "colab": {
          "base_uri": "https://localhost:8080/",
          "height": 442
        },
        "outputId": "6f1d18ea-d8e0-4fa8-8e7c-fe6c1d008572"
      },
      "outputs": [
        {
          "output_type": "display_data",
          "data": {
            "text/plain": [
              "<Figure size 720x504 with 1 Axes>"
            ],
            "image/png": "[encoded data removed]"
          },
          "metadata": {
            "needs_background": "light"
          }
        }
      ],
      "source": [
        "# 데이터의 산점도\n",
        "\n",
        "plt.figure(figsize=(10,7))\n",
        "plt.scatter(X, y)\n",
        "plt.xlabel('Hour')\n",
        "plt.ylabel('Score')\n",
        "plt.show()"
      ]
    },
    {
      "cell_type": "markdown",
      "id": "24b94744-34ba-47f9-a0a0-438e5d24ea48",
      "metadata": {
        "id": "24b94744-34ba-47f9-a0a0-438e5d24ea48"
      },
      "source": [
        "### 문제 4. 가설 "
      ]
    },
    {
      "cell_type": "markdown",
      "id": "08c191c4-edca-488b-b8b7-ae0a6a247210",
      "metadata": {
        "id": "08c191c4-edca-488b-b8b7-ae0a6a247210"
      },
      "source": [
        "* 가설 : $ \\hat{y}=Wx +b$"
      ]
    },
    {
      "cell_type": "code",
      "execution_count": 10,
      "id": "31222d65-c650-457e-bed4-6f62347fa430",
      "metadata": {
        "id": "31222d65-c650-457e-bed4-6f62347fa430"
      },
      "outputs": [],
      "source": [
        "# 임의의 초기값 설정, 변수를 텐서플로우 변수로 정의하는 이유는 자동미분기능(GradientTape)을 사용하기 위함\n",
        "\n",
        "W = tf.Variable(2.0)\n",
        "b = tf.Variable(0.5)\n",
        "\n",
        "hypothesis = W*X + b"
      ]
    },
    {
      "cell_type": "code",
      "source": [
        "hypothesis"
      ],
      "metadata": {
        "id": "ihEK60Vqd1UP",
        "colab": {
          "base_uri": "https://localhost:8080/"
        },
        "outputId": "f96f6c08-6189-44ec-d994-133e480a6d5d"
      },
      "id": "ihEK60Vqd1UP",
      "execution_count": 11,
      "outputs": [
        {
          "output_type": "execute_result",
          "data": {
            "text/plain": [
              "<tf.Tensor: shape=(4,), dtype=float32, numpy=array([ 4.5,  8.5, 12.5, 16.5], dtype=float32)>"
            ]
          },
          "metadata": {},
          "execution_count": 11
        }
      ]
    },
    {
      "cell_type": "markdown",
      "id": "22279cd8-182d-4ff0-8c8c-623f1869a70b",
      "metadata": {
        "id": "22279cd8-182d-4ff0-8c8c-623f1869a70b"
      },
      "source": [
        "Tensor에서 numpy array로 변환은 .numpy()함수를 사용합니다"
      ]
    },
    {
      "cell_type": "code",
      "execution_count": 12,
      "id": "e9f1fc36-1db5-4a12-ab5f-d2616e907259",
      "metadata": {
        "id": "e9f1fc36-1db5-4a12-ab5f-d2616e907259",
        "colab": {
          "base_uri": "https://localhost:8080/"
        },
        "outputId": "1ac0a9ed-cdeb-46bd-dde5-8e1409a1405e"
      },
      "outputs": [
        {
          "output_type": "execute_result",
          "data": {
            "text/plain": [
              "(<tf.Variable 'Variable:0' shape=() dtype=float32, numpy=2.0>, 2.0)"
            ]
          },
          "metadata": {},
          "execution_count": 12
        }
      ],
      "source": [
        "# 초기값 확인\n",
        "#Tensor에서 numpy array로 변환은 .numpy()함수 사용\n",
        "W, W.numpy()"
      ]
    },
    {
      "cell_type": "markdown",
      "id": "855378f0-e220-4e93-b1fe-c1eb34dea075",
      "metadata": {
        "id": "855378f0-e220-4e93-b1fe-c1eb34dea075"
      },
      "source": [
        "#### 가설의 시각화 "
      ]
    },
    {
      "cell_type": "code",
      "execution_count": 15,
      "id": "21547443-bc60-4971-8c63-e8b3f129368f",
      "metadata": {
        "id": "21547443-bc60-4971-8c63-e8b3f129368f",
        "outputId": "b2c032bd-7ac8-45d6-c8b9-2cf6ce402207",
        "colab": {
          "base_uri": "https://localhost:8080/",
          "height": 428
        }
      },
      "outputs": [
        {
          "output_type": "display_data",
          "data": {
            "text/plain": [
              "<Figure size 720x504 with 1 Axes>"
            ],
            "image/png": "[encoded data removed]"
          },
          "metadata": {
            "needs_background": "light"
          }
        }
      ],
      "source": [
        "plt.figure(figsize=(10,7))\n",
        "plt.plot(X, hypothesis.numpy(), 'r--')\n",
        "plt.plot(X, y, 'go')\n",
        "plt.show()"
      ]
    },
    {
      "cell_type": "markdown",
      "id": "16b383ae-2131-4757-a770-e0731e587bbd",
      "metadata": {
        "id": "16b383ae-2131-4757-a770-e0731e587bbd"
      },
      "source": [
        "### 6. 비용 함수 (Cost Function)"
      ]
    },
    {
      "cell_type": "markdown",
      "id": "2d39d625-1ed6-47fd-ab8b-33d74a85a217",
      "metadata": {
        "id": "2d39d625-1ed6-47fd-ab8b-33d74a85a217"
      },
      "source": [
        "$$ \\hat{y}=Wx +b$$\n",
        "$$ cost(W)=\\frac { 1 }{ m } \\sum _{i=1}^{m}{ ({ y-\\hat{y}_{ i } })^{ 2 } }  $$"
      ]
    },
    {
      "cell_type": "code",
      "execution_count": 17,
      "id": "c47c473b-f6db-420a-a7c1-63baca3a8e04",
      "metadata": {
        "id": "c47c473b-f6db-420a-a7c1-63baca3a8e04",
        "colab": {
          "base_uri": "https://localhost:8080/"
        },
        "outputId": "75d6c2e7-59ac-42f5-d396-3fd6b6177514"
      },
      "outputs": [
        {
          "output_type": "execute_result",
          "data": {
            "text/plain": [
              "6408.75"
            ]
          },
          "metadata": {},
          "execution_count": 17
        }
      ],
      "source": [
        "# 현재 손실\n",
        "cost = tf.reduce_mean(tf.square(hypothesis-y))\n",
        "cost.numpy()"
      ]
    },
    {
      "cell_type": "markdown",
      "id": "8e02bfd5-3f0f-405b-b365-4458f355783e",
      "metadata": {
        "id": "8e02bfd5-3f0f-405b-b365-4458f355783e"
      },
      "source": [
        "### 7. 학습\n",
        "#### 자동 미분 기능"
      ]
    },
    {
      "cell_type": "markdown",
      "id": "c01f60f7-d33b-4b6b-9e09-ec907a7e8c56",
      "metadata": {
        "id": "c01f60f7-d33b-4b6b-9e09-ec907a7e8c56"
      },
      "source": [
        "* 텐서플로우의 자동미분 기능을 사용"
      ]
    },
    {
      "cell_type": "code",
      "execution_count": 18,
      "id": "6f7c13b2-f344-43a4-bdb4-e742db7121da",
      "metadata": {
        "id": "6f7c13b2-f344-43a4-bdb4-e742db7121da"
      },
      "outputs": [],
      "source": [
        "# 손실함수의 미분값을 계산하세요\n",
        "with tf.GradientTape() as type:\n",
        "  hypothesis = W*X + b\n",
        "  cost = tf.reduce_mean(tf.square(hypothesis-y))\n",
        "\n",
        "W_grad, b_grad = type.gradient(cost, [W, b])"
      ]
    },
    {
      "cell_type": "code",
      "execution_count": 21,
      "id": "81727d05-e4fc-42ee-b0ae-fd08d86a47a4",
      "metadata": {
        "id": "81727d05-e4fc-42ee-b0ae-fd08d86a47a4",
        "colab": {
          "base_uri": "https://localhost:8080/"
        },
        "outputId": "78c635af-3101-414c-e162-2bde696d1c71"
      },
      "outputs": [
        {
          "output_type": "execute_result",
          "data": {
            "text/plain": [
              "(-803.0, -160.0)"
            ]
          },
          "metadata": {},
          "execution_count": 21
        }
      ],
      "source": [
        "# W와 b 계산값을 출력\n",
        "W_grad.numpy(), b_grad.numpy()"
      ]
    },
    {
      "cell_type": "markdown",
      "id": "c1774e85-69c9-4d83-a210-40022523596f",
      "metadata": {
        "id": "c1774e85-69c9-4d83-a210-40022523596f"
      },
      "source": [
        "#### 가중치와 기울기 갱신"
      ]
    },
    {
      "cell_type": "code",
      "execution_count": 22,
      "id": "5bd6c5d5-5318-4733-9bb4-cf5ff26b4ed4",
      "metadata": {
        "id": "5bd6c5d5-5318-4733-9bb4-cf5ff26b4ed4",
        "colab": {
          "base_uri": "https://localhost:8080/"
        },
        "outputId": "8abc60f5-f1d5-440e-bcf9-d1e878eaa3c0"
      },
      "outputs": [
        {
          "output_type": "execute_result",
          "data": {
            "text/plain": [
              "<tf.Variable 'UnreadVariable' shape=() dtype=float32, numpy=2.1>"
            ]
          },
          "metadata": {},
          "execution_count": 22
        }
      ],
      "source": [
        "lr = 0.01\n",
        "W.assign_sub(lr*W_grad)\n",
        "b.assign_sub(lr*b_grad)"
      ]
    },
    {
      "cell_type": "code",
      "execution_count": 23,
      "id": "be0272a3-d78a-4e3c-a6a3-dc8c8505d57a",
      "metadata": {
        "id": "be0272a3-d78a-4e3c-a6a3-dc8c8505d57a",
        "colab": {
          "base_uri": "https://localhost:8080/"
        },
        "outputId": "afeb63ef-e980-4c1b-dcc8-0b9449c37982"
      },
      "outputs": [
        {
          "output_type": "execute_result",
          "data": {
            "text/plain": [
              "(10.03, 2.1)"
            ]
          },
          "metadata": {},
          "execution_count": 23
        }
      ],
      "source": [
        "# W와 b 계산값을 출력하세요\n",
        "W.numpy(), b.numpy()"
      ]
    },
    {
      "cell_type": "markdown",
      "id": "b385e5a5-860e-478b-9be4-492100dfecbb",
      "metadata": {
        "id": "b385e5a5-860e-478b-9be4-492100dfecbb"
      },
      "source": [
        "#### 현재 상태 시각화"
      ]
    },
    {
      "cell_type": "code",
      "execution_count": 27,
      "id": "32adb49a-5b32-4969-8da3-55bfd0fc897f",
      "metadata": {
        "id": "32adb49a-5b32-4969-8da3-55bfd0fc897f",
        "colab": {
          "base_uri": "https://localhost:8080/",
          "height": 429
        },
        "outputId": "da287ff8-c028-42b6-fd4b-7655c5f7258f"
      },
      "outputs": [
        {
          "output_type": "display_data",
          "data": {
            "text/plain": [
              "<Figure size 720x504 with 1 Axes>"
            ],
            "image/png": "[encoded data removed]"
          },
          "metadata": {
            "needs_background": "light"
          }
        }
      ],
      "source": [
        "hypothesis = W*X + b\n",
        "plt.figure(figsize = (10,7))\n",
        "plt.plot(X, hypothesis.numpy(), 'r--')\n",
        "plt.plot(X, y, 'go')\n",
        "plt.show()"
      ]
    },
    {
      "cell_type": "markdown",
      "id": "1c968e8a-11c2-4f81-9f9f-12fc10c874f5",
      "metadata": {
        "id": "1c968e8a-11c2-4f81-9f9f-12fc10c874f5"
      },
      "source": [
        "### 8. 경사하강법 (Gradient Descent)"
      ]
    },
    {
      "cell_type": "code",
      "execution_count": 29,
      "id": "d692e2dd-b92d-4f62-b3b8-ed94389cb4a1",
      "metadata": {
        "id": "d692e2dd-b92d-4f62-b3b8-ed94389cb4a1"
      },
      "outputs": [],
      "source": [
        "W = tf.Variable(2.9)\n",
        "b = tf.Variable(0.5)\n",
        "lr = 0.01\n",
        "epochs = 2000"
      ]
    },
    {
      "cell_type": "code",
      "execution_count": 30,
      "id": "cd2c9ef6-a2b6-4ab3-9577-3e31b8c1faea",
      "metadata": {
        "id": "cd2c9ef6-a2b6-4ab3-9577-3e31b8c1faea",
        "colab": {
          "base_uri": "https://localhost:8080/"
        },
        "outputId": "796a3931-31fb-4551-99c5-a0a2423e1d28"
      },
      "outputs": [
        {
          "output_type": "stream",
          "name": "stdout",
          "text": [
            "    0 | W=10.3900 | b=2.0100 | cost= 5710.350098\n",
            "  100 | W=11.5285 | b=23.9284 | cost= 517.148865\n",
            "  200 | W=8.9691 | b=39.2015 | cost= 274.046814\n",
            "  300 | W=7.1196 | b=50.2388 | cost= 147.086487\n",
            "  400 | W=5.7830 | b=58.2152 | cost= 80.781250\n",
            "  500 | W=4.8170 | b=63.9795 | cost= 46.153404\n",
            "  600 | W=4.1190 | b=68.1451 | cost= 28.069046\n",
            "  700 | W=3.6145 | b=71.1555 | cost= 18.624388\n",
            "  800 | W=3.2500 | b=73.3310 | cost= 13.691942\n",
            "  900 | W=2.9865 | b=74.9032 | cost= 11.115941\n",
            " 1000 | W=2.7961 | b=76.0394 | cost= 9.770640\n",
            " 1100 | W=2.6585 | b=76.8604 | cost= 9.068078\n",
            " 1200 | W=2.5591 | b=77.4538 | cost= 8.701128\n",
            " 1300 | W=2.4872 | b=77.8826 | cost= 8.509480\n",
            " 1400 | W=2.4353 | b=78.1925 | cost= 8.409400\n",
            " 1500 | W=2.3978 | b=78.4164 | cost= 8.357142\n",
            " 1600 | W=2.3707 | b=78.5782 | cost= 8.329845\n",
            " 1700 | W=2.3511 | b=78.6952 | cost= 8.315588\n",
            " 1800 | W=2.3369 | b=78.7797 | cost= 8.308147\n",
            " 1900 | W=2.3267 | b=78.8408 | cost= 8.304251\n",
            " 2000 | W=2.3193 | b=78.8850 | cost= 8.302218\n"
          ]
        }
      ],
      "source": [
        "for i in range(epochs+1):\n",
        "  with tf.GradientTape() as tape:\n",
        "    hypothesis = W*X + b\n",
        "    cost = tf.reduce_mean(tf.square(hypothesis-y))\n",
        "\n",
        "  W_grad, b_grad = tape.gradient(cost, [W, b])\n",
        "  W.assign_sub(lr*W_grad)\n",
        "  b.assign_sub(lr*b_grad)\n",
        "  \n",
        "  if i%100 == 0:\n",
        "    print(f\"{i:5} | W={W.numpy():.4f} | b={b.numpy():.4f} | cost={cost: .6f}\")\n",
        "  "
      ]
    },
    {
      "cell_type": "markdown",
      "id": "08be816c-a6f0-4b55-a54f-c35219cb8f3f",
      "metadata": {
        "id": "08be816c-a6f0-4b55-a54f-c35219cb8f3f"
      },
      "source": [
        "#### 학습결과 시각화"
      ]
    },
    {
      "cell_type": "code",
      "execution_count": 33,
      "id": "a99e534d-f317-4016-96ee-775537c66f00",
      "metadata": {
        "id": "a99e534d-f317-4016-96ee-775537c66f00",
        "colab": {
          "base_uri": "https://localhost:8080/",
          "height": 428
        },
        "outputId": "d0b0dd79-1405-4c11-f22e-963bb9660d28"
      },
      "outputs": [
        {
          "output_type": "display_data",
          "data": {
            "text/plain": [
              "<Figure size 720x504 with 1 Axes>"
            ],
            "image/png": "[encoded data removed]"
          },
          "metadata": {
            "needs_background": "light"
          }
        }
      ],
      "source": [
        "hypothesis = W*X + b\n",
        "plt.figure(figsize = (10,7))\n",
        "plt.plot(X, hypothesis.numpy(), 'r--')\n",
        "plt.plot(X, y, 'o')\n",
        "plt.show()"
      ]
    },
    {
      "cell_type": "markdown",
      "id": "2a345c62-177c-4fb7-ad3a-d9b9311430c2",
      "metadata": {
        "id": "2a345c62-177c-4fb7-ad3a-d9b9311430c2"
      },
      "source": [
        "### 9. 예측하기"
      ]
    },
    {
      "cell_type": "markdown",
      "id": "b234c2c1-c176-4180-bb8f-f9c9228ddebd",
      "metadata": {
        "id": "b234c2c1-c176-4180-bb8f-f9c9228ddebd"
      },
      "source": [
        "> * 5시간 공부하면 몇점 받을 수 있을까?"
      ]
    },
    {
      "cell_type": "code",
      "execution_count": 34,
      "id": "a1a442ae-f6e6-4384-9a17-3df570f392b0",
      "metadata": {
        "id": "a1a442ae-f6e6-4384-9a17-3df570f392b0",
        "colab": {
          "base_uri": "https://localhost:8080/"
        },
        "outputId": "bdcf8858-1db7-4d2a-b217-1a4fc3c54204"
      },
      "outputs": [
        {
          "output_type": "execute_result",
          "data": {
            "text/plain": [
              "(2.3192766, 78.884964)"
            ]
          },
          "metadata": {},
          "execution_count": 34
        }
      ],
      "source": [
        "W.numpy(), b.numpy()"
      ]
    },
    {
      "cell_type": "code",
      "execution_count": 35,
      "id": "53f5c012-8c51-4a2d-a2e3-082ee4725448",
      "metadata": {
        "id": "53f5c012-8c51-4a2d-a2e3-082ee4725448",
        "colab": {
          "base_uri": "https://localhost:8080/"
        },
        "outputId": "e1236479-3cee-4f3f-ede5-d8bdbac22ea3"
      },
      "outputs": [
        {
          "output_type": "execute_result",
          "data": {
            "text/plain": [
              "90.481346"
            ]
          },
          "metadata": {},
          "execution_count": 35
        }
      ],
      "source": [
        "(5*W + b).numpy()"
      ]
    },
    {
      "cell_type": "markdown",
      "id": "af707327-ce64-432b-a5ab-9797df160370",
      "metadata": {
        "id": "af707327-ce64-432b-a5ab-9797df160370"
      },
      "source": [
        "끝"
      ]
    }
  ],
  "metadata": {
    "kernelspec": {
      "display_name": "Python 3",
      "name": "python3"
    },
    "language_info": {
      "name": "python"
    },
    "colab": {
      "name": "텐서플로우1-단순선형회귀.ipynb",
      "provenance": [],
      "collapsed_sections": [],
      "toc_visible": true,
      "include_colab_link": true
    },
    "accelerator": "TPU",
    "gpuClass": "standard"
  },
  "nbformat": 4,
  "nbformat_minor": 5
}