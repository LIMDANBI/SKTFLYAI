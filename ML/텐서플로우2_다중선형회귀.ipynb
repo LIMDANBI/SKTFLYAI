{
  "cells": [
    {
      "cell_type": "markdown",
      "metadata": {
        "id": "view-in-github",
        "colab_type": "text"
      },
      "source": [
        "<a href=\"https://colab.research.google.com/github/LIMDANBI/SKTFLYAI/blob/main/ML/%E1%84%90%E1%85%A6%E1%86%AB%E1%84%89%E1%85%A5%E1%84%91%E1%85%B3%E1%86%AF%E1%84%85%E1%85%A9%E1%84%8B%E1%85%AE2_%E1%84%83%E1%85%A1%E1%84%8C%E1%85%AE%E1%86%BC%E1%84%89%E1%85%A5%E1%86%AB%E1%84%92%E1%85%A7%E1%86%BC%E1%84%92%E1%85%AC%E1%84%80%E1%85%B1.ipynb\" target=\"_parent\"><img src=\"https://colab.research.google.com/assets/colab-badge.svg\" alt=\"Open In Colab\"/></a>"
      ]
    },
    {
      "cell_type": "markdown",
      "id": "0459c35c-45c5-46ee-bdbd-3c83de0342e6",
      "metadata": {
        "id": "0459c35c-45c5-46ee-bdbd-3c83de0342e6"
      },
      "source": [
        "# 주제 : 다중 선형회귀 (Multiple Linear Regression)\n",
        "---"
      ]
    },
    {
      "cell_type": "markdown",
      "id": "59d40881-1f52-4783-b7f1-e944134ab740",
      "metadata": {
        "id": "59d40881-1f52-4783-b7f1-e944134ab740"
      },
      "source": [
        "* 독립 변수가 2개 이상인 데이터의 선형 회귀문제"
      ]
    },
    {
      "cell_type": "markdown",
      "id": "d5bade6a-81f6-46c1-ad4d-044e0bfafda8",
      "metadata": {
        "id": "d5bade6a-81f6-46c1-ad4d-044e0bfafda8"
      },
      "source": [
        "### 문제 1. 라이브러리"
      ]
    },
    {
      "cell_type": "code",
      "execution_count": 1,
      "id": "c63440f8-ef13-4474-ac49-4b27ab6f84d3",
      "metadata": {
        "id": "c63440f8-ef13-4474-ac49-4b27ab6f84d3"
      },
      "outputs": [],
      "source": [
        "import tensorflow as tf\n",
        "import numpy as np\n",
        "import pandas as pd\n",
        "import matplotlib.pyplot as plt\n",
        "\n",
        "import warnings\n",
        "warnings.filterwarnings(action='ignore')"
      ]
    },
    {
      "cell_type": "code",
      "source": [
        "# !pip install --upgrade tensorflow"
      ],
      "metadata": {
        "id": "Om1sv4pu6YPR"
      },
      "id": "Om1sv4pu6YPR",
      "execution_count": null,
      "outputs": []
    },
    {
      "cell_type": "code",
      "execution_count": 2,
      "id": "276645b0-3d6e-4644-99a5-6879291ce5c4",
      "metadata": {
        "id": "276645b0-3d6e-4644-99a5-6879291ce5c4",
        "colab": {
          "base_uri": "https://localhost:8080/"
        },
        "outputId": "2223a77b-bfd3-40e4-a3db-98bb65f417be"
      },
      "outputs": [
        {
          "output_type": "stream",
          "name": "stdout",
          "text": [
            "2.8.2\n"
          ]
        }
      ],
      "source": [
        "print(tf.__version__)"
      ]
    },
    {
      "cell_type": "markdown",
      "id": "207ed436-b577-4caf-aa99-4f7b0277a8b9",
      "metadata": {
        "id": "207ed436-b577-4caf-aa99-4f7b0277a8b9"
      },
      "source": [
        "### 문제 2. 데이터 만들기"
      ]
    },
    {
      "cell_type": "code",
      "execution_count": 3,
      "id": "0da9b7e2-d4bf-482a-b235-80d3a0a0d553",
      "metadata": {
        "id": "0da9b7e2-d4bf-482a-b235-80d3a0a0d553"
      },
      "outputs": [],
      "source": [
        "x1_data = [1, 0, 3, 0, 5]\n",
        "x2_data = [0, 2, 0, 4, 0]\n",
        "y_data  = [1, 2, 3, 4, 5]"
      ]
    },
    {
      "cell_type": "markdown",
      "id": "aa620daa-ea20-4d4b-9756-39d552daa5de",
      "metadata": {
        "id": "aa620daa-ea20-4d4b-9756-39d552daa5de"
      },
      "source": [
        "### 문제 3. 경사하강법"
      ]
    },
    {
      "cell_type": "markdown",
      "id": "26bd0c3c-1338-4df9-b03e-9995dded0a2e",
      "metadata": {
        "id": "26bd0c3c-1338-4df9-b03e-9995dded0a2e"
      },
      "source": [
        "가설: $$  \\hat{y}=W_1x_1 + W_2x_2 +b  $$"
      ]
    },
    {
      "cell_type": "markdown",
      "id": "9f9fc05a-c2b0-44e2-9e48-424293f9e50a",
      "metadata": {
        "id": "9f9fc05a-c2b0-44e2-9e48-424293f9e50a"
      },
      "source": [
        "#### 변수 초기화"
      ]
    },
    {
      "cell_type": "code",
      "execution_count": 4,
      "id": "fb06eec9-f7c9-488a-a4c8-92eff292e5e7",
      "metadata": {
        "id": "fb06eec9-f7c9-488a-a4c8-92eff292e5e7"
      },
      "outputs": [],
      "source": [
        "W1 = tf.Variable(tf.random.uniform((1,), -10.0, 10.0))\n",
        "W2 = tf.Variable(tf.random.uniform((1,), -10.0, 10.0))\n",
        "b = tf.Variable(tf.random.uniform((1,), -10.0, 10.0))\n",
        "\n",
        "lr = tf.constant(0.001)\n",
        "epochs = 1000\n",
        "costs = []          "
      ]
    },
    {
      "cell_type": "code",
      "execution_count": 5,
      "id": "e0b1f5d8-f4bc-4933-b85c-14f0f2166ad5",
      "metadata": {
        "id": "e0b1f5d8-f4bc-4933-b85c-14f0f2166ad5",
        "colab": {
          "base_uri": "https://localhost:8080/"
        },
        "outputId": "6ab36ce0-498d-43e1-8bde-202a9611ae94"
      },
      "outputs": [
        {
          "output_type": "stream",
          "name": "stdout",
          "text": [
            "[8.736742] [-9.065426] [-3.538394]\n"
          ]
        }
      ],
      "source": [
        "# 가중치가 배열 형태 \n",
        "print(W1.numpy(), W2.numpy(), b.numpy())"
      ]
    },
    {
      "cell_type": "markdown",
      "id": "5e7f2784-0408-4890-81ce-506fdae26211",
      "metadata": {
        "id": "5e7f2784-0408-4890-81ce-506fdae26211"
      },
      "source": [
        "#### 경사하강법"
      ]
    },
    {
      "cell_type": "code",
      "execution_count": 6,
      "id": "717a4c2b-6433-432e-9190-3749215ef911",
      "metadata": {
        "id": "717a4c2b-6433-432e-9190-3749215ef911",
        "colab": {
          "base_uri": "https://localhost:8080/"
        },
        "outputId": "8f631e35-5769-4459-ccba-9f299a8b8a70"
      },
      "outputs": [
        {
          "output_type": "stream",
          "name": "stdout",
          "text": [
            "    0 | 823.696411 | 8.6412 | -8.9764 | -3.53501\n",
            "  100 | 117.392822 | 3.4850 | -2.9356 | -2.93321\n",
            "  200 | 19.897480 | 2.1112 | -0.3288 | -2.41041\n",
            "  300 | 3.968471 | 1.7010 | 0.7734 | -2.10572\n",
            "  400 | 1.189731 | 1.5587 | 1.2301 | -1.93399\n",
            "  500 | 0.673292 | 1.4991 | 1.4129 | -1.82792\n",
            "  600 | 0.554872 | 1.4679 | 1.4804 | -1.75232\n",
            "  700 | 0.508166 | 1.4474 | 1.4996 | -1.69086\n",
            "  800 | 0.475635 | 1.4313 | 1.4987 | -1.63632\n",
            "  900 | 0.447043 | 1.4173 | 1.4896 | -1.58558\n",
            " 1000 | 0.420499 | 1.4043 | 1.4774 | -1.53726\n"
          ]
        }
      ],
      "source": [
        "for i in range(epochs+1):\n",
        "  with tf.GradientTape() as tape:\n",
        "    hypothesis = W1*x1_data + W2*x2_data + b\n",
        "    cost = tf.reduce_mean(tf.square(hypothesis-y_data))\n",
        "    costs.append(cost.numpy())\n",
        "\n",
        "  W1_grad, W2_grad, b_grad = tape.gradient(cost, [W1, W2, b])\n",
        "  W1.assign_sub(lr*W1_grad)\n",
        "  W2.assign_sub(lr*W2_grad)\n",
        "  b.assign_sub(lr*b_grad)\n",
        "\n",
        "  if i % 100 == 0:\n",
        "    print(\"{:5} | {:.6f} | {:.4f} | {:.4f} | {:.6}\".format(i, cost.numpy(), W1.numpy()[0], W2.numpy()[0], b.numpy()[0]))"
      ]
    },
    {
      "cell_type": "markdown",
      "id": "eb4fa8aa-8482-4bb8-8b01-0a1a31325bf1",
      "metadata": {
        "id": "eb4fa8aa-8482-4bb8-8b01-0a1a31325bf1"
      },
      "source": [
        "#### 비용 변환 시각화"
      ]
    },
    {
      "cell_type": "markdown",
      "id": "aef8f983-4b8b-434e-93b1-df08fa8a047f",
      "metadata": {
        "id": "aef8f983-4b8b-434e-93b1-df08fa8a047f"
      },
      "source": [
        "학습이 진행되면서 Cost가 어떻게 변화하는지 그래프로 표시해보자"
      ]
    },
    {
      "cell_type": "code",
      "execution_count": 7,
      "id": "9ef0d4a4-c298-4f3d-83b8-d395afe04f31",
      "metadata": {
        "id": "9ef0d4a4-c298-4f3d-83b8-d395afe04f31",
        "colab": {
          "base_uri": "https://localhost:8080/",
          "height": 442
        },
        "outputId": "f82f7440-a42e-4120-d5cf-72c89f602c05"
      },
      "outputs": [
        {
          "output_type": "display_data",
          "data": {
            "text/plain": [
              "<Figure size 720x504 with 1 Axes>"
            ],
            "image/png": "[encoded data removed]"
          },
          "metadata": {
            "needs_background": "light"
          }
        }
      ],
      "source": [
        "plt.figure(figsize=(10,7))\n",
        "plt.plot(costs)\n",
        "plt.xlabel('epoch')\n",
        "plt.ylabel('cost')\n",
        "plt.show()"
      ]
    },
    {
      "cell_type": "markdown",
      "id": "8588a177-f7f3-4f39-865a-1c06b97cdbba",
      "metadata": {
        "id": "8588a177-f7f3-4f39-865a-1c06b97cdbba"
      },
      "source": [
        "# 보스턴 주택 가격 예측\n",
        "\n",
        "CRIM: 지역별 범죄 발생률 <br>\n",
        "ZN: 25,000평방피트를 초과하는 거주 지역의 비율 <br>\n",
        "NDUS: 비상업 지역 넓이 비율 <br>\n",
        "CHAS: 찰스강에 대한 더미 변수(강의 경계에 위치한 경우는 1, 아니면 0) <br>\n",
        "NOX: 일산화질소 농도 <br>\n",
        "RM: 거주할 수 있는 방 개수 <br>\n",
        "AGE: 1940년 이전에 건축된 소유 주택의 비율 <br>\n",
        "DIS: 5개 주요 고용센터까지의 가중 거리 <br>\n",
        "RAD: 고속도로 접근 용이도 <br>\n",
        "TAX: 10,000달러당 재산세율 <br>\n",
        "PTRATIO: 지역의 교사와 학생 수 비율 <br>\n",
        "B: 지역의 흑인 거주 비율 <br>\n",
        "LSTAT: 하위 계층의 비율 <br>\n",
        "PRICE: 주택 가격"
      ]
    },
    {
      "cell_type": "code",
      "execution_count": 10,
      "id": "3677ba02-1b47-4474-9911-4677c1e9d536",
      "metadata": {
        "id": "3677ba02-1b47-4474-9911-4677c1e9d536",
        "colab": {
          "base_uri": "https://localhost:8080/",
          "height": 424
        },
        "outputId": "fe7bc830-b87e-4443-fbbc-904e6ffe2cf8"
      },
      "outputs": [
        {
          "output_type": "execute_result",
          "data": {
            "text/plain": [
              "        CRIM    ZN  INDUS  CHAS    NOX     RM   AGE     DIS  RAD    TAX  \\\n",
              "0    0.00632  18.0   2.31   0.0  0.538  6.575  65.2  4.0900  1.0  296.0   \n",
              "1    0.02731   0.0   7.07   0.0  0.469  6.421  78.9  4.9671  2.0  242.0   \n",
              "2    0.02729   0.0   7.07   0.0  0.469  7.185  61.1  4.9671  2.0  242.0   \n",
              "3    0.03237   0.0   2.18   0.0  0.458  6.998  45.8  6.0622  3.0  222.0   \n",
              "4    0.06905   0.0   2.18   0.0  0.458  7.147  54.2  6.0622  3.0  222.0   \n",
              "..       ...   ...    ...   ...    ...    ...   ...     ...  ...    ...   \n",
              "501  0.06263   0.0  11.93   0.0  0.573  6.593  69.1  2.4786  1.0  273.0   \n",
              "502  0.04527   0.0  11.93   0.0  0.573  6.120  76.7  2.2875  1.0  273.0   \n",
              "503  0.06076   0.0  11.93   0.0  0.573  6.976  91.0  2.1675  1.0  273.0   \n",
              "504  0.10959   0.0  11.93   0.0  0.573  6.794  89.3  2.3889  1.0  273.0   \n",
              "505  0.04741   0.0  11.93   0.0  0.573  6.030  80.8  2.5050  1.0  273.0   \n",
              "\n",
              "     PTRATIO       B  LSTAT  PRICE  \n",
              "0       15.3  396.90   4.98   24.0  \n",
              "1       17.8  396.90   9.14   21.6  \n",
              "2       17.8  392.83   4.03   34.7  \n",
              "3       18.7  394.63   2.94   33.4  \n",
              "4       18.7  396.90   5.33   36.2  \n",
              "..       ...     ...    ...    ...  \n",
              "501     21.0  391.99   9.67   22.4  \n",
              "502     21.0  396.90   9.08   20.6  \n",
              "503     21.0  396.90   5.64   23.9  \n",
              "504     21.0  393.45   6.48   22.0  \n",
              "505     21.0  396.90   7.88   11.9  \n",
              "\n",
              "[506 rows x 14 columns]"
            ],
            "text/html": [
              "\n",
              "  <div id=\"df-c9e3f362-eb1d-480a-b6db-83411b580a2e\">\n",
              "    <div class=\"colab-df-container\">\n",
              "      <div>\n",
              "<style scoped>\n",
              "    .dataframe tbody tr th:only-of-type {\n",
              "        vertical-align: middle;\n",
              "    }\n",
              "\n",
              "    .dataframe tbody tr th {\n",
              "        vertical-align: top;\n",
              "    }\n",
              "\n",
              "    .dataframe thead th {\n",
              "        text-align: right;\n",
              "    }\n",
              "</style>\n",
              "<table border=\"1\" class=\"dataframe\">\n",
              "  <thead>\n",
              "    <tr style=\"text-align: right;\">\n",
              "      <th></th>\n",
              "      <th>CRIM</th>\n",
              "      <th>ZN</th>\n",
              "      <th>INDUS</th>\n",
              "      <th>CHAS</th>\n",
              "      <th>NOX</th>\n",
              "      <th>RM</th>\n",
              "      <th>AGE</th>\n",
              "      <th>DIS</th>\n",
              "      <th>RAD</th>\n",
              "      <th>TAX</th>\n",
              "      <th>PTRATIO</th>\n",
              "      <th>B</th>\n",
              "      <th>LSTAT</th>\n",
              "      <th>PRICE</th>\n",
              "    </tr>\n",
              "  </thead>\n",
              "  <tbody>\n",
              "    <tr>\n",
              "      <th>0</th>\n",
              "      <td>0.00632</td>\n",
              "      <td>18.0</td>\n",
              "      <td>2.31</td>\n",
              "      <td>0.0</td>\n",
              "      <td>0.538</td>\n",
              "      <td>6.575</td>\n",
              "      <td>65.2</td>\n",
              "      <td>4.0900</td>\n",
              "      <td>1.0</td>\n",
              "      <td>296.0</td>\n",
              "      <td>15.3</td>\n",
              "      <td>396.90</td>\n",
              "      <td>4.98</td>\n",
              "      <td>24.0</td>\n",
              "    </tr>\n",
              "    <tr>\n",
              "      <th>1</th>\n",
              "      <td>0.02731</td>\n",
              "      <td>0.0</td>\n",
              "      <td>7.07</td>\n",
              "      <td>0.0</td>\n",
              "      <td>0.469</td>\n",
              "      <td>6.421</td>\n",
              "      <td>78.9</td>\n",
              "      <td>4.9671</td>\n",
              "      <td>2.0</td>\n",
              "      <td>242.0</td>\n",
              "      <td>17.8</td>\n",
              "      <td>396.90</td>\n",
              "      <td>9.14</td>\n",
              "      <td>21.6</td>\n",
              "    </tr>\n",
              "    <tr>\n",
              "      <th>2</th>\n",
              "      <td>0.02729</td>\n",
              "      <td>0.0</td>\n",
              "      <td>7.07</td>\n",
              "      <td>0.0</td>\n",
              "      <td>0.469</td>\n",
              "      <td>7.185</td>\n",
              "      <td>61.1</td>\n",
              "      <td>4.9671</td>\n",
              "      <td>2.0</td>\n",
              "      <td>242.0</td>\n",
              "      <td>17.8</td>\n",
              "      <td>392.83</td>\n",
              "      <td>4.03</td>\n",
              "      <td>34.7</td>\n",
              "    </tr>\n",
              "    <tr>\n",
              "      <th>3</th>\n",
              "      <td>0.03237</td>\n",
              "      <td>0.0</td>\n",
              "      <td>2.18</td>\n",
              "      <td>0.0</td>\n",
              "      <td>0.458</td>\n",
              "      <td>6.998</td>\n",
              "      <td>45.8</td>\n",
              "      <td>6.0622</td>\n",
              "      <td>3.0</td>\n",
              "      <td>222.0</td>\n",
              "      <td>18.7</td>\n",
              "      <td>394.63</td>\n",
              "      <td>2.94</td>\n",
              "      <td>33.4</td>\n",
              "    </tr>\n",
              "    <tr>\n",
              "      <th>4</th>\n",
              "      <td>0.06905</td>\n",
              "      <td>0.0</td>\n",
              "      <td>2.18</td>\n",
              "      <td>0.0</td>\n",
              "      <td>0.458</td>\n",
              "      <td>7.147</td>\n",
              "      <td>54.2</td>\n",
              "      <td>6.0622</td>\n",
              "      <td>3.0</td>\n",
              "      <td>222.0</td>\n",
              "      <td>18.7</td>\n",
              "      <td>396.90</td>\n",
              "      <td>5.33</td>\n",
              "      <td>36.2</td>\n",
              "    </tr>\n",
              "    <tr>\n",
              "      <th>...</th>\n",
              "      <td>...</td>\n",
              "      <td>...</td>\n",
              "      <td>...</td>\n",
              "      <td>...</td>\n",
              "      <td>...</td>\n",
              "      <td>...</td>\n",
              "      <td>...</td>\n",
              "      <td>...</td>\n",
              "      <td>...</td>\n",
              "      <td>...</td>\n",
              "      <td>...</td>\n",
              "      <td>...</td>\n",
              "      <td>...</td>\n",
              "      <td>...</td>\n",
              "    </tr>\n",
              "    <tr>\n",
              "      <th>501</th>\n",
              "      <td>0.06263</td>\n",
              "      <td>0.0</td>\n",
              "      <td>11.93</td>\n",
              "      <td>0.0</td>\n",
              "      <td>0.573</td>\n",
              "      <td>6.593</td>\n",
              "      <td>69.1</td>\n",
              "      <td>2.4786</td>\n",
              "      <td>1.0</td>\n",
              "      <td>273.0</td>\n",
              "      <td>21.0</td>\n",
              "      <td>391.99</td>\n",
              "      <td>9.67</td>\n",
              "      <td>22.4</td>\n",
              "    </tr>\n",
              "    <tr>\n",
              "      <th>502</th>\n",
              "      <td>0.04527</td>\n",
              "      <td>0.0</td>\n",
              "      <td>11.93</td>\n",
              "      <td>0.0</td>\n",
              "      <td>0.573</td>\n",
              "      <td>6.120</td>\n",
              "      <td>76.7</td>\n",
              "      <td>2.2875</td>\n",
              "      <td>1.0</td>\n",
              "      <td>273.0</td>\n",
              "      <td>21.0</td>\n",
              "      <td>396.90</td>\n",
              "      <td>9.08</td>\n",
              "      <td>20.6</td>\n",
              "    </tr>\n",
              "    <tr>\n",
              "      <th>503</th>\n",
              "      <td>0.06076</td>\n",
              "      <td>0.0</td>\n",
              "      <td>11.93</td>\n",
              "      <td>0.0</td>\n",
              "      <td>0.573</td>\n",
              "      <td>6.976</td>\n",
              "      <td>91.0</td>\n",
              "      <td>2.1675</td>\n",
              "      <td>1.0</td>\n",
              "      <td>273.0</td>\n",
              "      <td>21.0</td>\n",
              "      <td>396.90</td>\n",
              "      <td>5.64</td>\n",
              "      <td>23.9</td>\n",
              "    </tr>\n",
              "    <tr>\n",
              "      <th>504</th>\n",
              "      <td>0.10959</td>\n",
              "      <td>0.0</td>\n",
              "      <td>11.93</td>\n",
              "      <td>0.0</td>\n",
              "      <td>0.573</td>\n",
              "      <td>6.794</td>\n",
              "      <td>89.3</td>\n",
              "      <td>2.3889</td>\n",
              "      <td>1.0</td>\n",
              "      <td>273.0</td>\n",
              "      <td>21.0</td>\n",
              "      <td>393.45</td>\n",
              "      <td>6.48</td>\n",
              "      <td>22.0</td>\n",
              "    </tr>\n",
              "    <tr>\n",
              "      <th>505</th>\n",
              "      <td>0.04741</td>\n",
              "      <td>0.0</td>\n",
              "      <td>11.93</td>\n",
              "      <td>0.0</td>\n",
              "      <td>0.573</td>\n",
              "      <td>6.030</td>\n",
              "      <td>80.8</td>\n",
              "      <td>2.5050</td>\n",
              "      <td>1.0</td>\n",
              "      <td>273.0</td>\n",
              "      <td>21.0</td>\n",
              "      <td>396.90</td>\n",
              "      <td>7.88</td>\n",
              "      <td>11.9</td>\n",
              "    </tr>\n",
              "  </tbody>\n",
              "</table>\n",
              "<p>506 rows × 14 columns</p>\n",
              "</div>\n",
              "      <button class=\"colab-df-convert\" onclick=\"convertToInteractive('df-c9e3f362-eb1d-480a-b6db-83411b580a2e')\"\n",
              "              title=\"Convert this dataframe to an interactive table.\"\n",
              "              style=\"display:none;\">\n",
              "        \n",
              "  <svg xmlns=\"http://www.w3.org/2000/svg\" height=\"24px\"viewBox=\"0 0 24 24\"\n",
              "       width=\"24px\">\n",
              "    <path d=\"M0 0h24v24H0V0z\" fill=\"none\"/>\n",
              "    <path d=\"M18.56 5.44l.94 2.06.94-2.06 2.06-.94-2.06-.94-.94-2.06-.94 2.06-2.06.94zm-11 1L8.5 8.5l.94-2.06 2.06-.94-2.06-.94L8.5 2.5l-.94 2.06-2.06.94zm10 10l.94 2.06.94-2.06 2.06-.94-2.06-.94-.94-2.06-.94 2.06-2.06.94z\"/><path d=\"M17.41 7.96l-1.37-1.37c-.4-.4-.92-.59-1.43-.59-.52 0-1.04.2-1.43.59L10.3 9.45l-7.72 7.72c-.78.78-.78 2.05 0 2.83L4 21.41c.39.39.9.59 1.41.59.51 0 1.02-.2 1.41-.59l7.78-7.78 2.81-2.81c.8-.78.8-2.07 0-2.86zM5.41 20L4 18.59l7.72-7.72 1.47 1.35L5.41 20z\"/>\n",
              "  </svg>\n",
              "      </button>\n",
              "      \n",
              "  <style>\n",
              "    .colab-df-container {\n",
              "      display:flex;\n",
              "      flex-wrap:wrap;\n",
              "      gap: 12px;\n",
              "    }\n",
              "\n",
              "    .colab-df-convert {\n",
              "      background-color: #E8F0FE;\n",
              "      border: none;\n",
              "      border-radius: 50%;\n",
              "      cursor: pointer;\n",
              "      display: none;\n",
              "      fill: #1967D2;\n",
              "      height: 32px;\n",
              "      padding: 0 0 0 0;\n",
              "      width: 32px;\n",
              "    }\n",
              "\n",
              "    .colab-df-convert:hover {\n",
              "      background-color: #E2EBFA;\n",
              "      box-shadow: 0px 1px 2px rgba(60, 64, 67, 0.3), 0px 1px 3px 1px rgba(60, 64, 67, 0.15);\n",
              "      fill: #174EA6;\n",
              "    }\n",
              "\n",
              "    [theme=dark] .colab-df-convert {\n",
              "      background-color: #3B4455;\n",
              "      fill: #D2E3FC;\n",
              "    }\n",
              "\n",
              "    [theme=dark] .colab-df-convert:hover {\n",
              "      background-color: #434B5C;\n",
              "      box-shadow: 0px 1px 3px 1px rgba(0, 0, 0, 0.15);\n",
              "      filter: drop-shadow(0px 1px 2px rgba(0, 0, 0, 0.3));\n",
              "      fill: #FFFFFF;\n",
              "    }\n",
              "  </style>\n",
              "\n",
              "      <script>\n",
              "        const buttonEl =\n",
              "          document.querySelector('#df-c9e3f362-eb1d-480a-b6db-83411b580a2e button.colab-df-convert');\n",
              "        buttonEl.style.display =\n",
              "          google.colab.kernel.accessAllowed ? 'block' : 'none';\n",
              "\n",
              "        async function convertToInteractive(key) {\n",
              "          const element = document.querySelector('#df-c9e3f362-eb1d-480a-b6db-83411b580a2e');\n",
              "          const dataTable =\n",
              "            await google.colab.kernel.invokeFunction('convertToInteractive',\n",
              "                                                     [key], {});\n",
              "          if (!dataTable) return;\n",
              "\n",
              "          const docLinkHtml = 'Like what you see? Visit the ' +\n",
              "            '<a target=\"_blank\" href=https://colab.research.google.com/notebooks/data_table.ipynb>data table notebook</a>'\n",
              "            + ' to learn more about interactive tables.';\n",
              "          element.innerHTML = '';\n",
              "          dataTable['output_type'] = 'display_data';\n",
              "          await google.colab.output.renderOutput(dataTable, element);\n",
              "          const docLink = document.createElement('div');\n",
              "          docLink.innerHTML = docLinkHtml;\n",
              "          element.appendChild(docLink);\n",
              "        }\n",
              "      </script>\n",
              "    </div>\n",
              "  </div>\n",
              "  "
            ]
          },
          "metadata": {},
          "execution_count": 10
        }
      ],
      "source": [
        "from sklearn.datasets import load_boston \n",
        "boston = load_boston()\n",
        "df = pd.DataFrame(boston.data, columns = boston.feature_names)\n",
        "df['PRICE'] = boston.target\n",
        "df"
      ]
    },
    {
      "cell_type": "code",
      "source": [
        "df.corr()"
      ],
      "metadata": {
        "colab": {
          "base_uri": "https://localhost:8080/",
          "height": 488
        },
        "id": "pw_RjP6lLKJg",
        "outputId": "95ba2ac5-a4a5-4a26-e9c0-53beb4c15752"
      },
      "id": "pw_RjP6lLKJg",
      "execution_count": 11,
      "outputs": [
        {
          "output_type": "execute_result",
          "data": {
            "text/plain": [
              "             CRIM        ZN     INDUS      CHAS       NOX        RM       AGE  \\\n",
              "CRIM     1.000000 -0.200469  0.406583 -0.055892  0.420972 -0.219247  0.352734   \n",
              "ZN      -0.200469  1.000000 -0.533828 -0.042697 -0.516604  0.311991 -0.569537   \n",
              "INDUS    0.406583 -0.533828  1.000000  0.062938  0.763651 -0.391676  0.644779   \n",
              "CHAS    -0.055892 -0.042697  0.062938  1.000000  0.091203  0.091251  0.086518   \n",
              "NOX      0.420972 -0.516604  0.763651  0.091203  1.000000 -0.302188  0.731470   \n",
              "RM      -0.219247  0.311991 -0.391676  0.091251 -0.302188  1.000000 -0.240265   \n",
              "AGE      0.352734 -0.569537  0.644779  0.086518  0.731470 -0.240265  1.000000   \n",
              "DIS     -0.379670  0.664408 -0.708027 -0.099176 -0.769230  0.205246 -0.747881   \n",
              "RAD      0.625505 -0.311948  0.595129 -0.007368  0.611441 -0.209847  0.456022   \n",
              "TAX      0.582764 -0.314563  0.720760 -0.035587  0.668023 -0.292048  0.506456   \n",
              "PTRATIO  0.289946 -0.391679  0.383248 -0.121515  0.188933 -0.355501  0.261515   \n",
              "B       -0.385064  0.175520 -0.356977  0.048788 -0.380051  0.128069 -0.273534   \n",
              "LSTAT    0.455621 -0.412995  0.603800 -0.053929  0.590879 -0.613808  0.602339   \n",
              "PRICE   -0.388305  0.360445 -0.483725  0.175260 -0.427321  0.695360 -0.376955   \n",
              "\n",
              "              DIS       RAD       TAX   PTRATIO         B     LSTAT     PRICE  \n",
              "CRIM    -0.379670  0.625505  0.582764  0.289946 -0.385064  0.455621 -0.388305  \n",
              "ZN       0.664408 -0.311948 -0.314563 -0.391679  0.175520 -0.412995  0.360445  \n",
              "INDUS   -0.708027  0.595129  0.720760  0.383248 -0.356977  0.603800 -0.483725  \n",
              "CHAS    -0.099176 -0.007368 -0.035587 -0.121515  0.048788 -0.053929  0.175260  \n",
              "NOX     -0.769230  0.611441  0.668023  0.188933 -0.380051  0.590879 -0.427321  \n",
              "RM       0.205246 -0.209847 -0.292048 -0.355501  0.128069 -0.613808  0.695360  \n",
              "AGE     -0.747881  0.456022  0.506456  0.261515 -0.273534  0.602339 -0.376955  \n",
              "DIS      1.000000 -0.494588 -0.534432 -0.232471  0.291512 -0.496996  0.249929  \n",
              "RAD     -0.494588  1.000000  0.910228  0.464741 -0.444413  0.488676 -0.381626  \n",
              "TAX     -0.534432  0.910228  1.000000  0.460853 -0.441808  0.543993 -0.468536  \n",
              "PTRATIO -0.232471  0.464741  0.460853  1.000000 -0.177383  0.374044 -0.507787  \n",
              "B        0.291512 -0.444413 -0.441808 -0.177383  1.000000 -0.366087  0.333461  \n",
              "LSTAT   -0.496996  0.488676  0.543993  0.374044 -0.366087  1.000000 -0.737663  \n",
              "PRICE    0.249929 -0.381626 -0.468536 -0.507787  0.333461 -0.737663  1.000000  "
            ],
            "text/html": [
              "\n",
              "  <div id=\"df-80595a6b-8267-4d2a-b606-e74285e66bff\">\n",
              "    <div class=\"colab-df-container\">\n",
              "      <div>\n",
              "<style scoped>\n",
              "    .dataframe tbody tr th:only-of-type {\n",
              "        vertical-align: middle;\n",
              "    }\n",
              "\n",
              "    .dataframe tbody tr th {\n",
              "        vertical-align: top;\n",
              "    }\n",
              "\n",
              "    .dataframe thead th {\n",
              "        text-align: right;\n",
              "    }\n",
              "</style>\n",
              "<table border=\"1\" class=\"dataframe\">\n",
              "  <thead>\n",
              "    <tr style=\"text-align: right;\">\n",
              "      <th></th>\n",
              "      <th>CRIM</th>\n",
              "      <th>ZN</th>\n",
              "      <th>INDUS</th>\n",
              "      <th>CHAS</th>\n",
              "      <th>NOX</th>\n",
              "      <th>RM</th>\n",
              "      <th>AGE</th>\n",
              "      <th>DIS</th>\n",
              "      <th>RAD</th>\n",
              "      <th>TAX</th>\n",
              "      <th>PTRATIO</th>\n",
              "      <th>B</th>\n",
              "      <th>LSTAT</th>\n",
              "      <th>PRICE</th>\n",
              "    </tr>\n",
              "  </thead>\n",
              "  <tbody>\n",
              "    <tr>\n",
              "      <th>CRIM</th>\n",
              "      <td>1.000000</td>\n",
              "      <td>-0.200469</td>\n",
              "      <td>0.406583</td>\n",
              "      <td>-0.055892</td>\n",
              "      <td>0.420972</td>\n",
              "      <td>-0.219247</td>\n",
              "      <td>0.352734</td>\n",
              "      <td>-0.379670</td>\n",
              "      <td>0.625505</td>\n",
              "      <td>0.582764</td>\n",
              "      <td>0.289946</td>\n",
              "      <td>-0.385064</td>\n",
              "      <td>0.455621</td>\n",
              "      <td>-0.388305</td>\n",
              "    </tr>\n",
              "    <tr>\n",
              "      <th>ZN</th>\n",
              "      <td>-0.200469</td>\n",
              "      <td>1.000000</td>\n",
              "      <td>-0.533828</td>\n",
              "      <td>-0.042697</td>\n",
              "      <td>-0.516604</td>\n",
              "      <td>0.311991</td>\n",
              "      <td>-0.569537</td>\n",
              "      <td>0.664408</td>\n",
              "      <td>-0.311948</td>\n",
              "      <td>-0.314563</td>\n",
              "      <td>-0.391679</td>\n",
              "      <td>0.175520</td>\n",
              "      <td>-0.412995</td>\n",
              "      <td>0.360445</td>\n",
              "    </tr>\n",
              "    <tr>\n",
              "      <th>INDUS</th>\n",
              "      <td>0.406583</td>\n",
              "      <td>-0.533828</td>\n",
              "      <td>1.000000</td>\n",
              "      <td>0.062938</td>\n",
              "      <td>0.763651</td>\n",
              "      <td>-0.391676</td>\n",
              "      <td>0.644779</td>\n",
              "      <td>-0.708027</td>\n",
              "      <td>0.595129</td>\n",
              "      <td>0.720760</td>\n",
              "      <td>0.383248</td>\n",
              "      <td>-0.356977</td>\n",
              "      <td>0.603800</td>\n",
              "      <td>-0.483725</td>\n",
              "    </tr>\n",
              "    <tr>\n",
              "      <th>CHAS</th>\n",
              "      <td>-0.055892</td>\n",
              "      <td>-0.042697</td>\n",
              "      <td>0.062938</td>\n",
              "      <td>1.000000</td>\n",
              "      <td>0.091203</td>\n",
              "      <td>0.091251</td>\n",
              "      <td>0.086518</td>\n",
              "      <td>-0.099176</td>\n",
              "      <td>-0.007368</td>\n",
              "      <td>-0.035587</td>\n",
              "      <td>-0.121515</td>\n",
              "      <td>0.048788</td>\n",
              "      <td>-0.053929</td>\n",
              "      <td>0.175260</td>\n",
              "    </tr>\n",
              "    <tr>\n",
              "      <th>NOX</th>\n",
              "      <td>0.420972</td>\n",
              "      <td>-0.516604</td>\n",
              "      <td>0.763651</td>\n",
              "      <td>0.091203</td>\n",
              "      <td>1.000000</td>\n",
              "      <td>-0.302188</td>\n",
              "      <td>0.731470</td>\n",
              "      <td>-0.769230</td>\n",
              "      <td>0.611441</td>\n",
              "      <td>0.668023</td>\n",
              "      <td>0.188933</td>\n",
              "      <td>-0.380051</td>\n",
              "      <td>0.590879</td>\n",
              "      <td>-0.427321</td>\n",
              "    </tr>\n",
              "    <tr>\n",
              "      <th>RM</th>\n",
              "      <td>-0.219247</td>\n",
              "      <td>0.311991</td>\n",
              "      <td>-0.391676</td>\n",
              "      <td>0.091251</td>\n",
              "      <td>-0.302188</td>\n",
              "      <td>1.000000</td>\n",
              "      <td>-0.240265</td>\n",
              "      <td>0.205246</td>\n",
              "      <td>-0.209847</td>\n",
              "      <td>-0.292048</td>\n",
              "      <td>-0.355501</td>\n",
              "      <td>0.128069</td>\n",
              "      <td>-0.613808</td>\n",
              "      <td>0.695360</td>\n",
              "    </tr>\n",
              "    <tr>\n",
              "      <th>AGE</th>\n",
              "      <td>0.352734</td>\n",
              "      <td>-0.569537</td>\n",
              "      <td>0.644779</td>\n",
              "      <td>0.086518</td>\n",
              "      <td>0.731470</td>\n",
              "      <td>-0.240265</td>\n",
              "      <td>1.000000</td>\n",
              "      <td>-0.747881</td>\n",
              "      <td>0.456022</td>\n",
              "      <td>0.506456</td>\n",
              "      <td>0.261515</td>\n",
              "      <td>-0.273534</td>\n",
              "      <td>0.602339</td>\n",
              "      <td>-0.376955</td>\n",
              "    </tr>\n",
              "    <tr>\n",
              "      <th>DIS</th>\n",
              "      <td>-0.379670</td>\n",
              "      <td>0.664408</td>\n",
              "      <td>-0.708027</td>\n",
              "      <td>-0.099176</td>\n",
              "      <td>-0.769230</td>\n",
              "      <td>0.205246</td>\n",
              "      <td>-0.747881</td>\n",
              "      <td>1.000000</td>\n",
              "      <td>-0.494588</td>\n",
              "      <td>-0.534432</td>\n",
              "      <td>-0.232471</td>\n",
              "      <td>0.291512</td>\n",
              "      <td>-0.496996</td>\n",
              "      <td>0.249929</td>\n",
              "    </tr>\n",
              "    <tr>\n",
              "      <th>RAD</th>\n",
              "      <td>0.625505</td>\n",
              "      <td>-0.311948</td>\n",
              "      <td>0.595129</td>\n",
              "      <td>-0.007368</td>\n",
              "      <td>0.611441</td>\n",
              "      <td>-0.209847</td>\n",
              "      <td>0.456022</td>\n",
              "      <td>-0.494588</td>\n",
              "      <td>1.000000</td>\n",
              "      <td>0.910228</td>\n",
              "      <td>0.464741</td>\n",
              "      <td>-0.444413</td>\n",
              "      <td>0.488676</td>\n",
              "      <td>-0.381626</td>\n",
              "    </tr>\n",
              "    <tr>\n",
              "      <th>TAX</th>\n",
              "      <td>0.582764</td>\n",
              "      <td>-0.314563</td>\n",
              "      <td>0.720760</td>\n",
              "      <td>-0.035587</td>\n",
              "      <td>0.668023</td>\n",
              "      <td>-0.292048</td>\n",
              "      <td>0.506456</td>\n",
              "      <td>-0.534432</td>\n",
              "      <td>0.910228</td>\n",
              "      <td>1.000000</td>\n",
              "      <td>0.460853</td>\n",
              "      <td>-0.441808</td>\n",
              "      <td>0.543993</td>\n",
              "      <td>-0.468536</td>\n",
              "    </tr>\n",
              "    <tr>\n",
              "      <th>PTRATIO</th>\n",
              "      <td>0.289946</td>\n",
              "      <td>-0.391679</td>\n",
              "      <td>0.383248</td>\n",
              "      <td>-0.121515</td>\n",
              "      <td>0.188933</td>\n",
              "      <td>-0.355501</td>\n",
              "      <td>0.261515</td>\n",
              "      <td>-0.232471</td>\n",
              "      <td>0.464741</td>\n",
              "      <td>0.460853</td>\n",
              "      <td>1.000000</td>\n",
              "      <td>-0.177383</td>\n",
              "      <td>0.374044</td>\n",
              "      <td>-0.507787</td>\n",
              "    </tr>\n",
              "    <tr>\n",
              "      <th>B</th>\n",
              "      <td>-0.385064</td>\n",
              "      <td>0.175520</td>\n",
              "      <td>-0.356977</td>\n",
              "      <td>0.048788</td>\n",
              "      <td>-0.380051</td>\n",
              "      <td>0.128069</td>\n",
              "      <td>-0.273534</td>\n",
              "      <td>0.291512</td>\n",
              "      <td>-0.444413</td>\n",
              "      <td>-0.441808</td>\n",
              "      <td>-0.177383</td>\n",
              "      <td>1.000000</td>\n",
              "      <td>-0.366087</td>\n",
              "      <td>0.333461</td>\n",
              "    </tr>\n",
              "    <tr>\n",
              "      <th>LSTAT</th>\n",
              "      <td>0.455621</td>\n",
              "      <td>-0.412995</td>\n",
              "      <td>0.603800</td>\n",
              "      <td>-0.053929</td>\n",
              "      <td>0.590879</td>\n",
              "      <td>-0.613808</td>\n",
              "      <td>0.602339</td>\n",
              "      <td>-0.496996</td>\n",
              "      <td>0.488676</td>\n",
              "      <td>0.543993</td>\n",
              "      <td>0.374044</td>\n",
              "      <td>-0.366087</td>\n",
              "      <td>1.000000</td>\n",
              "      <td>-0.737663</td>\n",
              "    </tr>\n",
              "    <tr>\n",
              "      <th>PRICE</th>\n",
              "      <td>-0.388305</td>\n",
              "      <td>0.360445</td>\n",
              "      <td>-0.483725</td>\n",
              "      <td>0.175260</td>\n",
              "      <td>-0.427321</td>\n",
              "      <td>0.695360</td>\n",
              "      <td>-0.376955</td>\n",
              "      <td>0.249929</td>\n",
              "      <td>-0.381626</td>\n",
              "      <td>-0.468536</td>\n",
              "      <td>-0.507787</td>\n",
              "      <td>0.333461</td>\n",
              "      <td>-0.737663</td>\n",
              "      <td>1.000000</td>\n",
              "    </tr>\n",
              "  </tbody>\n",
              "</table>\n",
              "</div>\n",
              "      <button class=\"colab-df-convert\" onclick=\"convertToInteractive('df-80595a6b-8267-4d2a-b606-e74285e66bff')\"\n",
              "              title=\"Convert this dataframe to an interactive table.\"\n",
              "              style=\"display:none;\">\n",
              "        \n",
              "  <svg xmlns=\"http://www.w3.org/2000/svg\" height=\"24px\"viewBox=\"0 0 24 24\"\n",
              "       width=\"24px\">\n",
              "    <path d=\"M0 0h24v24H0V0z\" fill=\"none\"/>\n",
              "    <path d=\"M18.56 5.44l.94 2.06.94-2.06 2.06-.94-2.06-.94-.94-2.06-.94 2.06-2.06.94zm-11 1L8.5 8.5l.94-2.06 2.06-.94-2.06-.94L8.5 2.5l-.94 2.06-2.06.94zm10 10l.94 2.06.94-2.06 2.06-.94-2.06-.94-.94-2.06-.94 2.06-2.06.94z\"/><path d=\"M17.41 7.96l-1.37-1.37c-.4-.4-.92-.59-1.43-.59-.52 0-1.04.2-1.43.59L10.3 9.45l-7.72 7.72c-.78.78-.78 2.05 0 2.83L4 21.41c.39.39.9.59 1.41.59.51 0 1.02-.2 1.41-.59l7.78-7.78 2.81-2.81c.8-.78.8-2.07 0-2.86zM5.41 20L4 18.59l7.72-7.72 1.47 1.35L5.41 20z\"/>\n",
              "  </svg>\n",
              "      </button>\n",
              "      \n",
              "  <style>\n",
              "    .colab-df-container {\n",
              "      display:flex;\n",
              "      flex-wrap:wrap;\n",
              "      gap: 12px;\n",
              "    }\n",
              "\n",
              "    .colab-df-convert {\n",
              "      background-color: #E8F0FE;\n",
              "      border: none;\n",
              "      border-radius: 50%;\n",
              "      cursor: pointer;\n",
              "      display: none;\n",
              "      fill: #1967D2;\n",
              "      height: 32px;\n",
              "      padding: 0 0 0 0;\n",
              "      width: 32px;\n",
              "    }\n",
              "\n",
              "    .colab-df-convert:hover {\n",
              "      background-color: #E2EBFA;\n",
              "      box-shadow: 0px 1px 2px rgba(60, 64, 67, 0.3), 0px 1px 3px 1px rgba(60, 64, 67, 0.15);\n",
              "      fill: #174EA6;\n",
              "    }\n",
              "\n",
              "    [theme=dark] .colab-df-convert {\n",
              "      background-color: #3B4455;\n",
              "      fill: #D2E3FC;\n",
              "    }\n",
              "\n",
              "    [theme=dark] .colab-df-convert:hover {\n",
              "      background-color: #434B5C;\n",
              "      box-shadow: 0px 1px 3px 1px rgba(0, 0, 0, 0.15);\n",
              "      filter: drop-shadow(0px 1px 2px rgba(0, 0, 0, 0.3));\n",
              "      fill: #FFFFFF;\n",
              "    }\n",
              "  </style>\n",
              "\n",
              "      <script>\n",
              "        const buttonEl =\n",
              "          document.querySelector('#df-80595a6b-8267-4d2a-b606-e74285e66bff button.colab-df-convert');\n",
              "        buttonEl.style.display =\n",
              "          google.colab.kernel.accessAllowed ? 'block' : 'none';\n",
              "\n",
              "        async function convertToInteractive(key) {\n",
              "          const element = document.querySelector('#df-80595a6b-8267-4d2a-b606-e74285e66bff');\n",
              "          const dataTable =\n",
              "            await google.colab.kernel.invokeFunction('convertToInteractive',\n",
              "                                                     [key], {});\n",
              "          if (!dataTable) return;\n",
              "\n",
              "          const docLinkHtml = 'Like what you see? Visit the ' +\n",
              "            '<a target=\"_blank\" href=https://colab.research.google.com/notebooks/data_table.ipynb>data table notebook</a>'\n",
              "            + ' to learn more about interactive tables.';\n",
              "          element.innerHTML = '';\n",
              "          dataTable['output_type'] = 'display_data';\n",
              "          await google.colab.output.renderOutput(dataTable, element);\n",
              "          const docLink = document.createElement('div');\n",
              "          docLink.innerHTML = docLinkHtml;\n",
              "          element.appendChild(docLink);\n",
              "        }\n",
              "      </script>\n",
              "    </div>\n",
              "  </div>\n",
              "  "
            ]
          },
          "metadata": {},
          "execution_count": 11
        }
      ]
    },
    {
      "cell_type": "markdown",
      "id": "c2db3a2f-3542-463c-8ac7-2b47b8ffab3c",
      "metadata": {
        "id": "c2db3a2f-3542-463c-8ac7-2b47b8ffab3c"
      },
      "source": [
        "### 데이터 만들기"
      ]
    },
    {
      "cell_type": "markdown",
      "id": "c54ea3d0-de44-41cd-b95f-f18f969e8236",
      "metadata": {
        "id": "c54ea3d0-de44-41cd-b95f-f18f969e8236"
      },
      "source": [
        "* 독립 변수가 3개인 다중 회귀문제 "
      ]
    },
    {
      "cell_type": "code",
      "execution_count": 12,
      "id": "d52e56b8-3a8c-4288-a0c9-8bb89bda484f",
      "metadata": {
        "id": "d52e56b8-3a8c-4288-a0c9-8bb89bda484f"
      },
      "outputs": [],
      "source": [
        "X1 = df['RM'] # 방 개수\n",
        "X2 = df['LSTAT'] # 하위 계층 비율\n",
        "X3 = df['PTRATIO'] # 지역의 교사와 학생 수 비율\n",
        "y = df['PRICE']"
      ]
    },
    {
      "cell_type": "code",
      "source": [
        "W1 = tf.Variable(tf.random.uniform((1,), -10.0, 10.0))\n",
        "W2 = tf.Variable(tf.random.uniform((1,), -10.0, 10.0))\n",
        "W3 = tf.Variable(tf.random.uniform((1,), -10.0, 10.0))\n",
        "b = tf.Variable(tf.random.uniform((1,), -10.0, 10.0))\n",
        "\n",
        "lr = tf.constant(0.001)\n",
        "epochs = 2000\n",
        "costs = []          "
      ],
      "metadata": {
        "id": "_l1EkVxoPZkm"
      },
      "id": "_l1EkVxoPZkm",
      "execution_count": 23,
      "outputs": []
    },
    {
      "cell_type": "markdown",
      "id": "495502f3-a128-4d67-bd6e-9c33a160a946",
      "metadata": {
        "id": "495502f3-a128-4d67-bd6e-9c33a160a946"
      },
      "source": [
        "### 경사하강법"
      ]
    },
    {
      "cell_type": "code",
      "execution_count": 24,
      "id": "dcdc50ba-b0db-4b5e-a418-9406a5e19eb9",
      "metadata": {
        "id": "dcdc50ba-b0db-4b5e-a418-9406a5e19eb9",
        "colab": {
          "base_uri": "https://localhost:8080/"
        },
        "outputId": "70aada38-929d-453c-f477-7e85bbe38f78"
      },
      "outputs": [
        {
          "output_type": "stream",
          "name": "stdout",
          "text": [
            "    0 | 1467.070190 | -3.3089 | 2.9109 | -0.1153 | 0.107175\n",
            "  100 | 77.979836 | -0.4686 | -1.0658 | 2.0556 | 0.409281\n",
            "  200 | 62.080544 | 0.6917 | -0.9705 | 1.5947 | 0.521524\n",
            "  300 | 51.261414 | 1.6471 | -0.8874 | 1.2116 | 0.616086\n",
            "  400 | 43.898312 | 2.4351 | -0.8189 | 0.8955 | 0.696236\n",
            "  500 | 38.887093 | 3.0849 | -0.7624 | 0.6347 | 0.764497\n",
            "  600 | 35.476379 | 3.6208 | -0.7158 | 0.4195 | 0.822947\n",
            "  700 | 33.154846 | 4.0626 | -0.6774 | 0.2419 | 0.873304\n",
            "  800 | 31.574524 | 4.4269 | -0.6457 | 0.0954 | 0.916981\n",
            "  900 | 30.498608 | 4.7272 | -0.6196 | -0.0255 | 0.955148\n",
            " 1000 | 29.765940 | 4.9748 | -0.5980 | -0.1253 | 0.988767\n",
            " 1100 | 29.266863 | 5.1788 | -0.5803 | -0.2076 | 1.01863\n",
            " 1200 | 28.926756 | 5.3469 | -0.5656 | -0.2756 | 1.0454\n",
            " 1300 | 28.694830 | 5.4854 | -0.5535 | -0.3317 | 1.06961\n",
            " 1400 | 28.536522 | 5.5994 | -0.5436 | -0.3780 | 1.09171\n",
            " 1500 | 28.428310 | 5.6933 | -0.5354 | -0.4163 | 1.11207\n",
            " 1600 | 28.354191 | 5.7705 | -0.5286 | -0.4479 | 1.13099\n",
            " 1700 | 28.303278 | 5.8340 | -0.5231 | -0.4740 | 1.14872\n",
            " 1800 | 28.268156 | 5.8862 | -0.5185 | -0.4956 | 1.16547\n",
            " 1900 | 28.243780 | 5.9291 | -0.5147 | -0.5135 | 1.18141\n",
            " 2000 | 28.226717 | 5.9643 | -0.5116 | -0.5282 | 1.19668\n"
          ]
        }
      ],
      "source": [
        "for i in range(epochs+1):\n",
        "  with tf.GradientTape() as tape:\n",
        "    hypothesis = W1*X1 + W2*X2 + W3*X3 + b\n",
        "    cost = tf.reduce_mean(tf.square(hypothesis-y))\n",
        "    costs.append(cost.numpy())\n",
        "\n",
        "  W1_grad, W2_grad, W3_grad, b_grad = tape.gradient(cost, [W1, W2, W3, b])\n",
        "  W1.assign_sub(lr*W1_grad)\n",
        "  W2.assign_sub(lr*W2_grad)\n",
        "  W3.assign_sub(lr*W3_grad)\n",
        "  b.assign_sub(lr*b_grad)\n",
        "\n",
        "  if i % 100 == 0:\n",
        "    print(\"{:5} | {:.6f} | {:.4f} | {:.4f} | {:.4f} | {:.6}\".format(i, cost.numpy(), W1.numpy()[0], W2.numpy()[0], W3.numpy()[0], b.numpy()[0]))"
      ]
    },
    {
      "cell_type": "markdown",
      "id": "a3662b5a-4eea-4be0-a560-f1e05b9d4f59",
      "metadata": {
        "id": "a3662b5a-4eea-4be0-a560-f1e05b9d4f59"
      },
      "source": [
        "#### 결과 시각화 "
      ]
    },
    {
      "cell_type": "code",
      "execution_count": 25,
      "id": "4b9de1ca-c66b-4f7b-9d49-700ccdf32d7d",
      "metadata": {
        "id": "4b9de1ca-c66b-4f7b-9d49-700ccdf32d7d",
        "colab": {
          "base_uri": "https://localhost:8080/",
          "height": 442
        },
        "outputId": "24361974-3f71-4d13-f3c6-6146a6be4926"
      },
      "outputs": [
        {
          "output_type": "display_data",
          "data": {
            "text/plain": [
              "<Figure size 720x504 with 1 Axes>"
            ],
            "image/png": "[encoded data removed]"
          },
          "metadata": {
            "needs_background": "light"
          }
        }
      ],
      "source": [
        "plt.figure(figsize=(10,7))\n",
        "plt.plot(costs)\n",
        "plt.xlabel('epoch')\n",
        "plt.ylabel('cost')\n",
        "plt.show()"
      ]
    },
    {
      "cell_type": "code",
      "source": [
        ""
      ],
      "metadata": {
        "id": "beRHu7RFHZz3"
      },
      "id": "beRHu7RFHZz3",
      "execution_count": null,
      "outputs": []
    }
  ],
  "metadata": {
    "kernelspec": {
      "display_name": "Python 3",
      "name": "python3"
    },
    "language_info": {
      "name": "python"
    },
    "colab": {
      "name": "텐서플로우2-다중선형회귀.ipynb",
      "provenance": [],
      "collapsed_sections": [],
      "include_colab_link": true
    },
    "accelerator": "TPU",
    "gpuClass": "standard"
  },
  "nbformat": 4,
  "nbformat_minor": 5
}