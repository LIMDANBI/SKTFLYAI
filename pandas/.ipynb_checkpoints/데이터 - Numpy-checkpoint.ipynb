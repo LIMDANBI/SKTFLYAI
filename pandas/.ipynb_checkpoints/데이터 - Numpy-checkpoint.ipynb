{
 "cells": [
  {
   "cell_type": "code",
   "execution_count": 1,
   "id": "7205f448",
   "metadata": {},
   "outputs": [],
   "source": [
    "# !pip install numpy"
   ]
  },
  {
   "cell_type": "markdown",
   "id": "9699330d",
   "metadata": {},
   "source": [
    "# Numpy\n",
    "\n",
    "- Numerical Python의 약자\n",
    "- 고성능 과학 계산용 패키지로 강력한 N차원 배열 객체\n",
    "- 범용적 데이터 처리에 사용 가능한 다차원 컨테이너\n",
    "- 정교한 브로드캐스팅(broadcasting) 기능\n",
    "- 파이썬의 자료형 list와 비슷하지만, 더 빠르고 메모리를 효율적으로 관리 •반복문 없이 데이터 배열에 대한 처리를 지원하여 빠르고 편리\n",
    "- 데이터 과학 도구에 대한 생태계의 핵심을 이루고 있음\n"
   ]
  },
  {
   "cell_type": "code",
   "execution_count": 2,
   "id": "ef3fa330",
   "metadata": {},
   "outputs": [],
   "source": [
    "import numpy as np"
   ]
  },
  {
   "cell_type": "markdown",
   "id": "5b25d584",
   "metadata": {},
   "source": [
    "## list array (1-dim)"
   ]
  },
  {
   "cell_type": "code",
   "execution_count": 3,
   "id": "224d316e",
   "metadata": {},
   "outputs": [
    {
     "name": "stdout",
     "output_type": "stream",
     "text": [
      "[1 2 3 4 5]\n",
      "<class 'numpy.ndarray'>\n",
      "(5,)\n",
      "1 2 3 4 5\n",
      "[4 5 6 4 5]\n"
     ]
    }
   ],
   "source": [
    "a1 = np.array([1,2,3,4,5])\n",
    "print(a1)\n",
    "print(type(a1))\n",
    "print(a1.shape)\n",
    "print(a1[0], a1[1], a1[2], a1[3], a1[4])\n",
    "a1[0] = 4 \n",
    "a1[1] = 5\n",
    "a1[2] = 6\n",
    "print(a1)"
   ]
  },
  {
   "cell_type": "markdown",
   "id": "609726b9",
   "metadata": {},
   "source": [
    "## list array (2-dim)"
   ]
  },
  {
   "cell_type": "code",
   "execution_count": 4,
   "id": "ce7a159d",
   "metadata": {},
   "outputs": [
    {
     "name": "stdout",
     "output_type": "stream",
     "text": [
      "[[1 2 3]\n",
      " [4 5 6]\n",
      " [7 8 9]]\n",
      "(3, 3)\n",
      "1 5 9\n"
     ]
    }
   ],
   "source": [
    "a2 = np.array([[1,2,3],[4,5,6],[7,8,9]])\n",
    "print(a2)\n",
    "print(a2.shape)\n",
    "print(a2[0,0], a2[1,1], a2[2,2])"
   ]
  },
  {
   "cell_type": "markdown",
   "id": "ffc59d3e",
   "metadata": {},
   "source": [
    "## list array (3-dim)"
   ]
  },
  {
   "cell_type": "code",
   "execution_count": 5,
   "id": "4e417f1a",
   "metadata": {},
   "outputs": [
    {
     "name": "stdout",
     "output_type": "stream",
     "text": [
      "[[[1 2 3]\n",
      "  [4 5 6]\n",
      "  [7 8 9]]\n",
      "\n",
      " [[1 2 3]\n",
      "  [4 5 6]\n",
      "  [7 8 9]]\n",
      "\n",
      " [[1 2 4]\n",
      "  [4 5 6]\n",
      "  [7 8 9]]]\n",
      "(3, 3, 3)\n"
     ]
    }
   ],
   "source": [
    "a3 = np.array([\n",
    "    [[1,2,3],[4,5,6],[7,8,9]],\n",
    "    [[1,2,3],[4,5,6],[7,8,9]],\n",
    "    [[1,2,4],[4,5,6],[7,8,9]]\n",
    "    ])\n",
    "print(a3)\n",
    "print(a3.shape)"
   ]
  },
  {
   "cell_type": "markdown",
   "id": "5bb2bcf8",
   "metadata": {},
   "source": [
    "## 배열 생성 및 초기화"
   ]
  },
  {
   "cell_type": "code",
   "execution_count": 6,
   "id": "b0d7c7bd",
   "metadata": {},
   "outputs": [
    {
     "data": {
      "text/plain": [
       "array([[0., 0., 0.],\n",
       "       [0., 0., 0.],\n",
       "       [0., 0., 0.]])"
      ]
     },
     "execution_count": 6,
     "metadata": {},
     "output_type": "execute_result"
    }
   ],
   "source": [
    "np.zeros((3,3)) # 모든 요소를 0으로 초기화"
   ]
  },
  {
   "cell_type": "code",
   "execution_count": 7,
   "id": "f03fc489",
   "metadata": {},
   "outputs": [
    {
     "data": {
      "text/plain": [
       "array([[1., 1., 1.],\n",
       "       [1., 1., 1.],\n",
       "       [1., 1., 1.]])"
      ]
     },
     "execution_count": 7,
     "metadata": {},
     "output_type": "execute_result"
    }
   ],
   "source": [
    "np.ones((3,3)) # 모든 요소를 1로 초기화"
   ]
  },
  {
   "cell_type": "code",
   "execution_count": 8,
   "id": "8b2f2cc7",
   "metadata": {},
   "outputs": [
    {
     "data": {
      "text/plain": [
       "array([[8.22, 8.22, 8.22],\n",
       "       [8.22, 8.22, 8.22],\n",
       "       [8.22, 8.22, 8.22]])"
      ]
     },
     "execution_count": 8,
     "metadata": {},
     "output_type": "execute_result"
    }
   ],
   "source": [
    "np.full((3,3), 8.22) # 모든 요소를 지정한 값으로 초기화"
   ]
  },
  {
   "cell_type": "code",
   "execution_count": 9,
   "id": "d0f5dae5",
   "metadata": {},
   "outputs": [
    {
     "data": {
      "text/plain": [
       "array([[1., 0., 0.],\n",
       "       [0., 1., 0.],\n",
       "       [0., 0., 1.]])"
      ]
     },
     "execution_count": 9,
     "metadata": {},
     "output_type": "execute_result"
    }
   ],
   "source": [
    "np.eye(3) # 단위행렬(주대각선의 원소가 모두 1이고 나머지 원소는 모두 0인 정사각 행렬) 생성"
   ]
  },
  {
   "cell_type": "code",
   "execution_count": 10,
   "id": "ff417605",
   "metadata": {},
   "outputs": [
    {
     "data": {
      "text/plain": [
       "array([[1., 0., 0.],\n",
       "       [1., 1., 0.],\n",
       "       [1., 1., 1.]])"
      ]
     },
     "execution_count": 10,
     "metadata": {},
     "output_type": "execute_result"
    }
   ],
   "source": [
    "np.tri(3) # 삼각행렬 생성"
   ]
  },
  {
   "cell_type": "code",
   "execution_count": 11,
   "id": "6c7e2044",
   "metadata": {},
   "outputs": [
    {
     "data": {
      "text/plain": [
       "array([0.00000000e+000, 2.19368310e-314, 0.00000000e+000, 0.00000000e+000,\n",
       "       0.00000000e+000, 0.00000000e+000, 0.00000000e+000, 0.00000000e+000,\n",
       "       0.00000000e+000, 6.08419792e-310])"
      ]
     },
     "execution_count": 11,
     "metadata": {},
     "output_type": "execute_result"
    }
   ],
   "source": [
    "np.empty(10) # 초기화되지 않은 배열 생성 (초기화가 없어서 배열 생성비용 저렴하고 빠름)"
   ]
  },
  {
   "cell_type": "code",
   "execution_count": 12,
   "id": "3c646ef1",
   "metadata": {},
   "outputs": [
    {
     "name": "stdout",
     "output_type": "stream",
     "text": [
      "[4 5 6 4 5]\n"
     ]
    },
    {
     "data": {
      "text/plain": [
       "array([0, 0, 0, 0, 0])"
      ]
     },
     "execution_count": 12,
     "metadata": {},
     "output_type": "execute_result"
    }
   ],
   "source": [
    "print(a1)\n",
    "np.zeros_like(a1)"
   ]
  },
  {
   "cell_type": "code",
   "execution_count": 13,
   "id": "737750bc",
   "metadata": {},
   "outputs": [
    {
     "name": "stdout",
     "output_type": "stream",
     "text": [
      "[[1 2 3]\n",
      " [4 5 6]\n",
      " [7 8 9]]\n"
     ]
    },
    {
     "data": {
      "text/plain": [
       "array([[1, 1, 1],\n",
       "       [1, 1, 1],\n",
       "       [1, 1, 1]])"
      ]
     },
     "execution_count": 13,
     "metadata": {},
     "output_type": "execute_result"
    }
   ],
   "source": [
    "print(a2)\n",
    "np.ones_like(a2)"
   ]
  },
  {
   "cell_type": "code",
   "execution_count": 14,
   "id": "47242335",
   "metadata": {},
   "outputs": [
    {
     "name": "stdout",
     "output_type": "stream",
     "text": [
      "[[[1 2 3]\n",
      "  [4 5 6]\n",
      "  [7 8 9]]\n",
      "\n",
      " [[1 2 3]\n",
      "  [4 5 6]\n",
      "  [7 8 9]]\n",
      "\n",
      " [[1 2 4]\n",
      "  [4 5 6]\n",
      "  [7 8 9]]]\n"
     ]
    },
    {
     "data": {
      "text/plain": [
       "array([[[10, 10, 10],\n",
       "        [10, 10, 10],\n",
       "        [10, 10, 10]],\n",
       "\n",
       "       [[10, 10, 10],\n",
       "        [10, 10, 10],\n",
       "        [10, 10, 10]],\n",
       "\n",
       "       [[10, 10, 10],\n",
       "        [10, 10, 10],\n",
       "        [10, 10, 10]]])"
      ]
     },
     "execution_count": 14,
     "metadata": {},
     "output_type": "execute_result"
    }
   ],
   "source": [
    "print(a3)\n",
    "np.full_like(a3, 10)"
   ]
  },
  {
   "cell_type": "markdown",
   "id": "300efbda",
   "metadata": {},
   "source": [
    "## 생성한 값으로 배열 생성"
   ]
  },
  {
   "cell_type": "code",
   "execution_count": 15,
   "id": "2e27a00b",
   "metadata": {},
   "outputs": [
    {
     "data": {
      "text/plain": [
       "array([ 0,  2,  4,  6,  8, 10, 12, 14, 16, 18, 20, 22, 24, 26, 28])"
      ]
     },
     "execution_count": 15,
     "metadata": {},
     "output_type": "execute_result"
    }
   ],
   "source": [
    "np.arange(0, 30, 2)"
   ]
  },
  {
   "cell_type": "code",
   "execution_count": 16,
   "id": "c7359a0b",
   "metadata": {},
   "outputs": [
    {
     "data": {
      "text/plain": [
       "array([0.  , 0.25, 0.5 , 0.75, 1.  ])"
      ]
     },
     "execution_count": 16,
     "metadata": {},
     "output_type": "execute_result"
    }
   ],
   "source": [
    "np.linspace(0, 1, 5) # 범위 내에서 균등 간격의 배열 생성"
   ]
  },
  {
   "cell_type": "code",
   "execution_count": 17,
   "id": "b6e8af3e",
   "metadata": {},
   "outputs": [
    {
     "data": {
      "text/plain": [
       "array([0.1       , 0.14736842, 0.19473684, 0.24210526, 0.28947368,\n",
       "       0.33684211, 0.38421053, 0.43157895, 0.47894737, 0.52631579,\n",
       "       0.57368421, 0.62105263, 0.66842105, 0.71578947, 0.76315789,\n",
       "       0.81052632, 0.85789474, 0.90526316, 0.95263158, 1.        ])"
      ]
     },
     "execution_count": 17,
     "metadata": {},
     "output_type": "execute_result"
    }
   ],
   "source": [
    "np. linspace(0.1, 1, 20)"
   ]
  },
  {
   "cell_type": "markdown",
   "id": "2b22a868",
   "metadata": {},
   "source": [
    "## 랜덤값으로 배열 생성"
   ]
  },
  {
   "cell_type": "code",
   "execution_count": 18,
   "id": "8bd91916",
   "metadata": {},
   "outputs": [
    {
     "data": {
      "text/plain": [
       "array([[0.71969153, 0.96021628, 0.21593274],\n",
       "       [0.76813044, 0.97961819, 0.24562724],\n",
       "       [0.59186609, 0.22941357, 0.35434578]])"
      ]
     },
     "execution_count": 18,
     "metadata": {},
     "output_type": "execute_result"
    }
   ],
   "source": [
    "np.random.random((3,3)) # 랜덤한 수의 배열"
   ]
  },
  {
   "cell_type": "code",
   "execution_count": 19,
   "id": "f9b5ef49",
   "metadata": {},
   "outputs": [
    {
     "data": {
      "text/plain": [
       "array([[1, 3, 8],\n",
       "       [1, 6, 0],\n",
       "       [8, 7, 8]])"
      ]
     },
     "execution_count": 19,
     "metadata": {},
     "output_type": "execute_result"
    }
   ],
   "source": [
    "np.random.randint(0, 10, (3,3)) # 일정 구간의 랜덤 정수의 배열 "
   ]
  },
  {
   "cell_type": "code",
   "execution_count": 20,
   "id": "b5a80aee",
   "metadata": {},
   "outputs": [
    {
     "data": {
      "text/plain": [
       "array([[ 0.29837033,  0.47898613,  0.33896892],\n",
       "       [-1.72269005, -0.93169627, -0.99570534],\n",
       "       [ 1.03370695, -0.4613819 ,  0.80122407]])"
      ]
     },
     "execution_count": 20,
     "metadata": {},
     "output_type": "execute_result"
    }
   ],
   "source": [
    "np.random.normal(0, 1, (3,3)) # 평균=0, 표준편차=1, 3 x 3 배열"
   ]
  },
  {
   "cell_type": "code",
   "execution_count": 21,
   "id": "a12c0c67",
   "metadata": {},
   "outputs": [
    {
     "data": {
      "text/plain": [
       "array([[0.93648192, 0.9243551 , 0.07977549],\n",
       "       [0.4081262 , 0.17088809, 0.96516383],\n",
       "       [0.16695913, 0.03630876, 0.07113608]])"
      ]
     },
     "execution_count": 21,
     "metadata": {},
     "output_type": "execute_result"
    }
   ],
   "source": [
    "np.random.rand(3,3) # 균등분포(uniform distribution)를 고려한 랜덤한 수의 배열"
   ]
  },
  {
   "cell_type": "code",
   "execution_count": 22,
   "id": "d7c8fef6",
   "metadata": {},
   "outputs": [
    {
     "data": {
      "text/plain": [
       "array([[-1.38149026, -1.29844853,  0.82403981],\n",
       "       [-0.0915805 , -1.55637868, -0.30308589],\n",
       "       [-0.97139538,  1.67308997, -0.01734893]])"
      ]
     },
     "execution_count": 22,
     "metadata": {},
     "output_type": "execute_result"
    }
   ],
   "source": [
    "np.random.randn(3,3) # 표준 정규 분포(standard normal distribution)를 고려한 랜덤한 수의 배열"
   ]
  },
  {
   "cell_type": "markdown",
   "id": "035c7684",
   "metadata": {},
   "source": [
    "## 표준 데이터 타입"
   ]
  },
  {
   "cell_type": "code",
   "execution_count": 23,
   "id": "0850425b",
   "metadata": {},
   "outputs": [
    {
     "data": {
      "text/plain": [
       "array([0, 0, 0, 0, 0, 0, 0, 0, 0, 0, 0, 0, 0, 0, 0, 0, 0, 0, 0, 0])"
      ]
     },
     "execution_count": 23,
     "metadata": {},
     "output_type": "execute_result"
    }
   ],
   "source": [
    "np.zeros(20, dtype=int)"
   ]
  },
  {
   "cell_type": "code",
   "execution_count": 24,
   "id": "8a21ad64",
   "metadata": {},
   "outputs": [
    {
     "data": {
      "text/plain": [
       "array([[ True,  True,  True],\n",
       "       [ True,  True,  True],\n",
       "       [ True,  True,  True]])"
      ]
     },
     "execution_count": 24,
     "metadata": {},
     "output_type": "execute_result"
    }
   ],
   "source": [
    "np.ones((3,3), dtype=bool)"
   ]
  },
  {
   "cell_type": "code",
   "execution_count": 25,
   "id": "18d205de",
   "metadata": {},
   "outputs": [
    {
     "data": {
      "text/plain": [
       "array([[1., 1., 1.],\n",
       "       [1., 1., 1.],\n",
       "       [1., 1., 1.]])"
      ]
     },
     "execution_count": 25,
     "metadata": {},
     "output_type": "execute_result"
    }
   ],
   "source": [
    "np.full((3,3), 1, dtype=float)"
   ]
  },
  {
   "cell_type": "markdown",
   "id": "e8b1a6cc",
   "metadata": {},
   "source": [
    "## 날짜/시간 배열 생성"
   ]
  },
  {
   "cell_type": "code",
   "execution_count": 26,
   "id": "7fe3cb4b",
   "metadata": {},
   "outputs": [
    {
     "data": {
      "text/plain": [
       "array('2022-08-22', dtype='datetime64[D]')"
      ]
     },
     "execution_count": 26,
     "metadata": {},
     "output_type": "execute_result"
    }
   ],
   "source": [
    "date = np.array('2022-08-22', dtype = np.datetime64)\n",
    "date"
   ]
  },
  {
   "cell_type": "code",
   "execution_count": 27,
   "id": "dbdec9cd",
   "metadata": {},
   "outputs": [
    {
     "data": {
      "text/plain": [
       "array(['2022-08-22', '2022-08-23', '2022-08-24', '2022-08-25',\n",
       "       '2022-08-26', '2022-08-27', '2022-08-28', '2022-08-29',\n",
       "       '2022-08-30', '2022-08-31', '2022-09-01', '2022-09-02'],\n",
       "      dtype='datetime64[D]')"
      ]
     },
     "execution_count": 27,
     "metadata": {},
     "output_type": "execute_result"
    }
   ],
   "source": [
    "date + np.arange(12)"
   ]
  },
  {
   "cell_type": "code",
   "execution_count": 28,
   "id": "6a9faa84",
   "metadata": {},
   "outputs": [
    {
     "data": {
      "text/plain": [
       "numpy.datetime64('2020-08-22T12:00')"
      ]
     },
     "execution_count": 28,
     "metadata": {},
     "output_type": "execute_result"
    }
   ],
   "source": [
    "datetime = np.datetime64('2020-08-22 12:00')\n",
    "datetime"
   ]
  },
  {
   "cell_type": "code",
   "execution_count": 29,
   "id": "96be85fc",
   "metadata": {},
   "outputs": [
    {
     "data": {
      "text/plain": [
       "numpy.datetime64('2020-08-22T12:00:12.340000000')"
      ]
     },
     "execution_count": 29,
     "metadata": {},
     "output_type": "execute_result"
    }
   ],
   "source": [
    "datetime = np.datetime64('2020-08-22 12:00:12.34', 'ns')\n",
    "datetime"
   ]
  },
  {
   "cell_type": "markdown",
   "id": "81e21892",
   "metadata": {},
   "source": [
    "## 배열 속성 정보"
   ]
  },
  {
   "cell_type": "code",
   "execution_count": 30,
   "id": "0660cc6a",
   "metadata": {},
   "outputs": [],
   "source": [
    "def array_info(array):\n",
    "    print(array)\n",
    "    print(\"ndim:\", array.ndim)\n",
    "    print(\"shape:\", array.shape)\n",
    "    print(\"dtype:\", array.dtype)\n",
    "    print(\"size:\", array.size)\n",
    "    print(\"itemsize:\", array.itemsize)\n",
    "    print(\"nbytes:\", array.nbytes)\n",
    "    print(\"strides:\", array.strides)"
   ]
  },
  {
   "cell_type": "code",
   "execution_count": 31,
   "id": "2c79554f",
   "metadata": {},
   "outputs": [
    {
     "name": "stdout",
     "output_type": "stream",
     "text": [
      "[4 5 6 4 5]\n",
      "ndim: 1\n",
      "shape: (5,)\n",
      "dtype: int64\n",
      "size: 5\n",
      "itemsize: 8\n",
      "nbytes: 40\n",
      "strides: (8,)\n"
     ]
    }
   ],
   "source": [
    "array_info(a1)"
   ]
  },
  {
   "cell_type": "code",
   "execution_count": 32,
   "id": "beacfff9",
   "metadata": {},
   "outputs": [
    {
     "name": "stdout",
     "output_type": "stream",
     "text": [
      "[[1 2 3]\n",
      " [4 5 6]\n",
      " [7 8 9]]\n",
      "ndim: 2\n",
      "shape: (3, 3)\n",
      "dtype: int64\n",
      "size: 9\n",
      "itemsize: 8\n",
      "nbytes: 72\n",
      "strides: (24, 8)\n"
     ]
    }
   ],
   "source": [
    "array_info(a2)"
   ]
  },
  {
   "cell_type": "markdown",
   "id": "4bb7c8d0",
   "metadata": {},
   "source": [
    "## 인덱싱(Indexing)"
   ]
  },
  {
   "cell_type": "code",
   "execution_count": 33,
   "id": "05d37067",
   "metadata": {},
   "outputs": [
    {
     "name": "stdout",
     "output_type": "stream",
     "text": [
      "[4 5 6 4 5]\n",
      "4\n",
      "6\n",
      "5\n",
      "4\n"
     ]
    }
   ],
   "source": [
    "print(a1) \n",
    "print(a1[0]) \n",
    "print(a1[2]) \n",
    "print(a1[-1]) \n",
    "print(a1[-2])"
   ]
  },
  {
   "cell_type": "code",
   "execution_count": 34,
   "id": "4bbab417",
   "metadata": {},
   "outputs": [
    {
     "name": "stdout",
     "output_type": "stream",
     "text": [
      "[[1 2 3]\n",
      " [4 5 6]\n",
      " [7 8 9]]\n",
      "1\n",
      "3\n",
      "5\n",
      "9\n"
     ]
    }
   ],
   "source": [
    "print(a2) \n",
    "print(a2[0, 0]) \n",
    "print(a2[0, 2]) \n",
    "print(a2[1, 1]) \n",
    "print(a2[2, -1])"
   ]
  },
  {
   "cell_type": "code",
   "execution_count": 35,
   "id": "b0032d70",
   "metadata": {},
   "outputs": [
    {
     "name": "stdout",
     "output_type": "stream",
     "text": [
      "[[[1 2 3]\n",
      "  [4 5 6]\n",
      "  [7 8 9]]\n",
      "\n",
      " [[1 2 3]\n",
      "  [4 5 6]\n",
      "  [7 8 9]]\n",
      "\n",
      " [[1 2 4]\n",
      "  [4 5 6]\n",
      "  [7 8 9]]]\n",
      "1\n",
      "5\n",
      "9\n",
      "9\n"
     ]
    }
   ],
   "source": [
    "print(a3) \n",
    "print(a3[0, 0, 0]) \n",
    "print(a3[1, 1, 1]) \n",
    "print(a3[2, 2, 2]) \n",
    "print(a3[2, -1, -1])"
   ]
  },
  {
   "cell_type": "markdown",
   "id": "18131da2",
   "metadata": {},
   "source": [
    "## 슬라이싱(Slicing)"
   ]
  },
  {
   "cell_type": "code",
   "execution_count": 36,
   "id": "8767a3d8",
   "metadata": {},
   "outputs": [
    {
     "name": "stdout",
     "output_type": "stream",
     "text": [
      "[4 5 6 4 5]\n",
      "[4 5]\n",
      "[4 5 6 4 5]\n",
      "[4]\n",
      "[4 6 5]\n",
      "[5 4 6 5 4]\n"
     ]
    }
   ],
   "source": [
    "print(a1) \n",
    "print(a1[0:2]) \n",
    "print(a1[0:]) \n",
    "print(a1[:1]) \n",
    "print(a1[::2]) \n",
    "print(a1[::-1])"
   ]
  },
  {
   "cell_type": "code",
   "execution_count": 37,
   "id": "bfd821e8",
   "metadata": {},
   "outputs": [
    {
     "name": "stdout",
     "output_type": "stream",
     "text": [
      "[[1 2 3]\n",
      " [4 5 6]\n",
      " [7 8 9]]\n",
      "[4 5 6]\n",
      "[4 5 6]\n",
      "[[1 2]\n",
      " [4 5]]\n",
      "[[6 5 4]\n",
      " [9 8 7]]\n",
      "[[9 8 7]\n",
      " [6 5 4]\n",
      " [3 2 1]]\n"
     ]
    }
   ],
   "source": [
    "print(a2) \n",
    "print(a2[1]) \n",
    "print(a2[1, :]) \n",
    "print(a2[:2, :2]) \n",
    "print(a2[1:, ::-1]) \n",
    "print(a2[::-1, ::-1])"
   ]
  },
  {
   "cell_type": "markdown",
   "id": "cb29f492",
   "metadata": {},
   "source": [
    "## 불리언 인덱싱(Boolean Indexing)"
   ]
  },
  {
   "cell_type": "code",
   "execution_count": 38,
   "id": "a8558412",
   "metadata": {},
   "outputs": [
    {
     "name": "stdout",
     "output_type": "stream",
     "text": [
      "[4 5 6 4 5]\n",
      "[5 6 5]\n"
     ]
    }
   ],
   "source": [
    "print(a1)\n",
    "bi = [False, True, True, False, True] \n",
    "print(a1[bi])"
   ]
  },
  {
   "cell_type": "markdown",
   "id": "0e7a6bea",
   "metadata": {},
   "source": [
    "## 팬시 인덱싱(Fancy Indedxing)"
   ]
  },
  {
   "cell_type": "code",
   "execution_count": 39,
   "id": "b3a18c62",
   "metadata": {},
   "outputs": [
    {
     "name": "stdout",
     "output_type": "stream",
     "text": [
      "[4 5 6 4 5]\n",
      "4 6\n",
      "[4 6]\n"
     ]
    }
   ],
   "source": [
    "print(a1)\n",
    "print(a1[0], a1[2])\n",
    "ind = [0,2]\n",
    "print(a1[ind])"
   ]
  },
  {
   "cell_type": "code",
   "execution_count": 40,
   "id": "bd7cab1f",
   "metadata": {},
   "outputs": [
    {
     "name": "stdout",
     "output_type": "stream",
     "text": [
      "[[1 2 3]\n",
      " [4 5 6]\n",
      " [7 8 9]]\n",
      "[2 9]\n",
      "[[2 3]\n",
      " [5 6]\n",
      " [8 9]]\n",
      "[2 8]\n",
      "[8 9]\n",
      "[[2 3]\n",
      " [8 9]]\n",
      "[[5 6]\n",
      " [8 9]]\n"
     ]
    }
   ],
   "source": [
    "print(a2)\n",
    "row = np.array([0,2])\n",
    "col = np.array([1,2])\n",
    "print(a2[row,col]) # a2[[0,2],[1,2]]\n",
    "print(a2[:, col])\n",
    "print(a2[row, 1])\n",
    "print(a2[2, col])\n",
    "print(a2[row, 1:])\n",
    "print(a2[1:, col])"
   ]
  },
  {
   "cell_type": "markdown",
   "id": "2bd9adc2",
   "metadata": {},
   "source": [
    "## 배열 값 삽입"
   ]
  },
  {
   "cell_type": "code",
   "execution_count": 41,
   "id": "569ea6c2",
   "metadata": {},
   "outputs": [
    {
     "name": "stdout",
     "output_type": "stream",
     "text": [
      "[4 5 6 4 5]\n",
      "[10  4  5  6  4  5]\n",
      "[4 5 6 4 5]\n",
      "[ 4  5 10  6  4  5]\n"
     ]
    }
   ],
   "source": [
    "print(a1)\n",
    "b1 = np.insert(a1,0,10) # index 0에 10 추가\n",
    "print(b1)\n",
    "print(a1)\n",
    "c1 = np.insert(a1,2,10) # index 2에 10 추가\n",
    "print(c1)"
   ]
  },
  {
   "cell_type": "code",
   "execution_count": 42,
   "id": "f8083709",
   "metadata": {},
   "outputs": [
    {
     "name": "stdout",
     "output_type": "stream",
     "text": [
      "[[1 2 3]\n",
      " [4 5 6]\n",
      " [7 8 9]]\n",
      "[[ 1  2  3]\n",
      " [10 10 10]\n",
      " [ 4  5  6]\n",
      " [ 7  8  9]]\n",
      "[[ 1 10  2  3]\n",
      " [ 4 10  5  6]\n",
      " [ 7 10  8  9]]\n"
     ]
    }
   ],
   "source": [
    "print(a2)\n",
    "b2 = np.insert(a2,1,10, axis=0)\n",
    "print(b2)\n",
    "c2 = np.insert(a2, 1, 10, axis=1)\n",
    "print(c2)"
   ]
  }
 ],
 "metadata": {
  "kernelspec": {
   "display_name": "Python 3 (ipykernel)",
   "language": "python",
   "name": "python3"
  },
  "language_info": {
   "codemirror_mode": {
    "name": "ipython",
    "version": 3
   },
   "file_extension": ".py",
   "mimetype": "text/x-python",
   "name": "python",
   "nbconvert_exporter": "python",
   "pygments_lexer": "ipython3",
   "version": "3.10.4"
  }
 },
 "nbformat": 4,
 "nbformat_minor": 5
}
