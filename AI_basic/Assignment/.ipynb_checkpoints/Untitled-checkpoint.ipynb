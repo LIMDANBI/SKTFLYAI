{
 "cells": [
  {
   "cell_type": "code",
   "execution_count": 1,
   "id": "05aa7078",
   "metadata": {},
   "outputs": [],
   "source": [
    "import numpy as np"
   ]
  },
  {
   "cell_type": "markdown",
   "id": "24d4aac3",
   "metadata": {},
   "source": [
    "## 1번"
   ]
  },
  {
   "cell_type": "code",
   "execution_count": 2,
   "id": "01020942",
   "metadata": {},
   "outputs": [
    {
     "name": "stdout",
     "output_type": "stream",
     "text": [
      "[0. 0. 0. 0. 0. 0. 0. 0. 0. 0.]\n"
     ]
    }
   ],
   "source": [
    "array = np.zeros(10)\n",
    "print(array)"
   ]
  },
  {
   "cell_type": "markdown",
   "id": "b335fdcb",
   "metadata": {},
   "source": [
    "## 2번"
   ]
  },
  {
   "cell_type": "code",
   "execution_count": 3,
   "id": "dfaa7a3d",
   "metadata": {},
   "outputs": [
    {
     "name": "stdout",
     "output_type": "stream",
     "text": [
      "[0. 0. 0. 0. 1. 0. 0. 0. 0. 0.]\n"
     ]
    }
   ],
   "source": [
    "array = np.zeros(10)\n",
    "array[4] = 1\n",
    "print(array)"
   ]
  },
  {
   "cell_type": "markdown",
   "id": "5921f980",
   "metadata": {},
   "source": [
    "## 3번"
   ]
  },
  {
   "cell_type": "code",
   "execution_count": 4,
   "id": "ca11d7fe",
   "metadata": {},
   "outputs": [
    {
     "name": "stdout",
     "output_type": "stream",
     "text": [
      "[10 11 12 13 14 15 16 17 18 19 20 21 22 23 24 25 26 27 28 29 30 31 32 33\n",
      " 34 35 36 37 38 39 40 41 42 43 44 45 46 47 48 49]\n"
     ]
    }
   ],
   "source": [
    "array = np.arange(10,50)\n",
    "print(array)"
   ]
  },
  {
   "cell_type": "markdown",
   "id": "aecaa6a6",
   "metadata": {},
   "source": [
    "## 4번"
   ]
  },
  {
   "cell_type": "code",
   "execution_count": 5,
   "id": "3d58bb29",
   "metadata": {},
   "outputs": [
    {
     "name": "stdout",
     "output_type": "stream",
     "text": [
      "[49 48 47 46 45 44 43 42 41 40 39 38 37 36 35 34 33 32 31 30 29 28 27 26\n",
      " 25 24 23 22 21 20 19 18 17 16 15 14 13 12 11 10]\n",
      "[49 48 47 46 45 44 43 42 41 40 39 38 37 36 35 34 33 32 31 30 29 28 27 26\n",
      " 25 24 23 22 21 20 19 18 17 16 15 14 13 12 11 10]\n"
     ]
    }
   ],
   "source": [
    "x = np.arange(10, 50)\n",
    "y1 = x[::-1] # 인덱스로 해결\n",
    "print(y1)\n",
    "y2 = np.flip(x) # np.flip() 사용\n",
    "print(y2)"
   ]
  },
  {
   "cell_type": "markdown",
   "id": "d2e20252",
   "metadata": {},
   "source": [
    "## 5번"
   ]
  },
  {
   "cell_type": "code",
   "execution_count": 6,
   "id": "f88bdd75",
   "metadata": {},
   "outputs": [
    {
     "name": "stdout",
     "output_type": "stream",
     "text": [
      "[[0 1 2]\n",
      " [3 4 5]\n",
      " [6 7 8]]\n"
     ]
    }
   ],
   "source": [
    "matrix = np.arange(0,9).reshape(3,3)\n",
    "print(matrix)"
   ]
  },
  {
   "cell_type": "markdown",
   "id": "df5b2cd5",
   "metadata": {},
   "source": [
    "## 6번"
   ]
  },
  {
   "cell_type": "code",
   "execution_count": 7,
   "id": "3b87bb8c",
   "metadata": {},
   "outputs": [
    {
     "name": "stdout",
     "output_type": "stream",
     "text": [
      "(array([0, 1, 4]),)\n"
     ]
    }
   ],
   "source": [
    "f = np.array([1,2,0,0,4,0])\n",
    "a = np.nonzero(f)\n",
    "print(a)"
   ]
  },
  {
   "cell_type": "markdown",
   "id": "4275bd3a",
   "metadata": {},
   "source": [
    "## 7번"
   ]
  },
  {
   "cell_type": "code",
   "execution_count": 8,
   "id": "b0783f93",
   "metadata": {
    "scrolled": true
   },
   "outputs": [
    {
     "name": "stdout",
     "output_type": "stream",
     "text": [
      "[[5 8 7]\n",
      " [8 8 2]\n",
      " [4 1 6]]\n",
      "[[0.37402229 0.31282951 0.33071501]\n",
      " [0.96564634 0.95050444 0.7890022 ]\n",
      " [0.78593997 0.20557778 0.58185544]]\n"
     ]
    }
   ],
   "source": [
    "array = np.random.randint(1, 10, size=9).reshape(3,3)\n",
    "print(array)\n",
    "array = np.random.random((3,3))\n",
    "print(array)"
   ]
  },
  {
   "cell_type": "markdown",
   "id": "f895ef7f",
   "metadata": {},
   "source": [
    "## 8번"
   ]
  },
  {
   "cell_type": "code",
   "execution_count": 9,
   "id": "01b3fb6f",
   "metadata": {},
   "outputs": [
    {
     "name": "stdout",
     "output_type": "stream",
     "text": [
      "0.9958760967397837\n",
      "0.008999478638067493\n"
     ]
    }
   ],
   "source": [
    "array = np.random.random((10,10))\n",
    "print(np.max(array))\n",
    "print(np.min(array))"
   ]
  },
  {
   "cell_type": "markdown",
   "id": "d992ac88",
   "metadata": {},
   "source": [
    "## 9번"
   ]
  },
  {
   "cell_type": "code",
   "execution_count": 13,
   "id": "35e44f94",
   "metadata": {},
   "outputs": [
    {
     "data": {
      "text/plain": [
       "0.44757225777772014"
      ]
     },
     "execution_count": 13,
     "metadata": {},
     "output_type": "execute_result"
    }
   ],
   "source": [
    "v = np.random.random(30)\n",
    "np.mean(v)"
   ]
  },
  {
   "cell_type": "markdown",
   "id": "d00dec3b",
   "metadata": {},
   "source": [
    "## 10번"
   ]
  },
  {
   "cell_type": "code",
   "execution_count": 15,
   "id": "72d60f2d",
   "metadata": {},
   "outputs": [
    {
     "name": "stdout",
     "output_type": "stream",
     "text": [
      "[[1. 1. 1. 1. 1.]\n",
      " [1. 1. 1. 1. 1.]\n",
      " [1. 1. 1. 1. 1.]]\n",
      "[[1. 1. 1. 1. 1.]\n",
      " [1. 0. 0. 0. 1.]\n",
      " [1. 1. 1. 1. 1.]]\n"
     ]
    }
   ],
   "source": [
    "arr = np.ones((3,5))\n",
    "print(arr)\n",
    "arr[1, 1:4] = 0\n",
    "print(arr)"
   ]
  },
  {
   "cell_type": "markdown",
   "id": "6c722c37",
   "metadata": {},
   "source": [
    "## 11번 (1)"
   ]
  },
  {
   "cell_type": "code",
   "execution_count": 19,
   "id": "856295f8",
   "metadata": {},
   "outputs": [
    {
     "name": "stdout",
     "output_type": "stream",
     "text": [
      "[[0. 0. 0. 0. 0. 0. 0.]\n",
      " [0. 1. 1. 1. 1. 1. 0.]\n",
      " [0. 1. 1. 1. 1. 1. 0.]\n",
      " [0. 1. 1. 1. 1. 1. 0.]\n",
      " [0. 1. 1. 1. 1. 1. 0.]\n",
      " [0. 1. 1. 1. 1. 1. 0.]\n",
      " [0. 0. 0. 0. 0. 0. 0.]]\n"
     ]
    }
   ],
   "source": [
    "z = np.ones((5,5))\n",
    "z = np.pad(z, pad_width=1, mode='constant', constant_values=0)\n",
    "print(z)"
   ]
  },
  {
   "cell_type": "markdown",
   "id": "d40b3bd8",
   "metadata": {},
   "source": [
    "## 11번 (2)"
   ]
  },
  {
   "cell_type": "code",
   "execution_count": 21,
   "id": "c482d7f0",
   "metadata": {},
   "outputs": [
    {
     "name": "stdout",
     "output_type": "stream",
     "text": [
      "[[9 1 5 7]\n",
      " [2 6 5 8]\n",
      " [0 3 0 2]\n",
      " [4 0 7 3]]\n",
      "[[9 9 1 5 7 7]\n",
      " [9 9 1 5 7 7]\n",
      " [2 2 6 5 8 8]\n",
      " [0 0 3 0 2 2]\n",
      " [4 4 0 7 3 3]\n",
      " [4 4 0 7 3 3]]\n"
     ]
    }
   ],
   "source": [
    "arr_test = np.array(\n",
    "    [\n",
    "        [9,1,5,7],\n",
    "        [2,6,5,8],\n",
    "        [0,3,0,2],\n",
    "        [4,0,7,3]\n",
    "    ]\n",
    ")\n",
    "print(arr_test)\n",
    "arr_test_padded = np.pad(arr_test, pad_width=((1,1),(1,1)), mode='edge')\n",
    "print(arr_test_padded)"
   ]
  },
  {
   "cell_type": "code",
   "execution_count": 22,
   "id": "1b47830a",
   "metadata": {},
   "outputs": [
    {
     "name": "stdout",
     "output_type": "stream",
     "text": [
      "[[9 1 5 7]\n",
      " [2 6 5 8]\n",
      " [0 3 0 2]\n",
      " [4 0 7 3]]\n",
      "[[9 9 6 7 8 9]\n",
      " [9 9 1 5 7 9]\n",
      " [8 2 6 5 8 8]\n",
      " [3 0 3 0 2 3]\n",
      " [7 4 0 7 3 7]\n",
      " [9 9 6 7 8 9]]\n"
     ]
    }
   ],
   "source": [
    "arr_test = np.array(\n",
    "    [\n",
    "        [9,1,5,7],\n",
    "        [2,6,5,8],\n",
    "        [0,3,0,2],\n",
    "        [4,0,7,3]\n",
    "    ]\n",
    ")\n",
    "print(arr_test)\n",
    "arr_test_padded = np.pad(arr_test, pad_width=((1,1),(1,1)), mode='maximum')\n",
    "print(arr_test_padded)"
   ]
  },
  {
   "cell_type": "markdown",
   "id": "fbcaa428",
   "metadata": {},
   "source": [
    "## 12번"
   ]
  },
  {
   "cell_type": "code",
   "execution_count": 23,
   "id": "6a3b003a",
   "metadata": {},
   "outputs": [
    {
     "name": "stdout",
     "output_type": "stream",
     "text": [
      "[ 0  1  2  3  4  5  6  7  8  9 10]\n",
      "[ 0  1  2 -3 -4 -5 -6 -7 -8  9 10]\n"
     ]
    }
   ],
   "source": [
    "z = np.arange(11)\n",
    "print(z)\n",
    "z[3:9]*=-1\n",
    "print(z)"
   ]
  },
  {
   "cell_type": "markdown",
   "id": "535ef888",
   "metadata": {},
   "source": [
    "## 13번"
   ]
  },
  {
   "cell_type": "code",
   "execution_count": 24,
   "id": "f8e4ed59",
   "metadata": {},
   "outputs": [
    {
     "name": "stdout",
     "output_type": "stream",
     "text": [
      "[2 5 8 7 8 9 8 8 7 7]\n",
      "[3 0 6 6 0 6 8 4 7 1]\n",
      "[7 8]\n"
     ]
    }
   ],
   "source": [
    "arr1 = np.random.randint(0,10,10)\n",
    "arr2 = np.random.randint(0,10,10)\n",
    "print(arr1)\n",
    "print(arr2)\n",
    "print(np.intersect1d(arr1, arr2))"
   ]
  },
  {
   "cell_type": "markdown",
   "id": "090edb30",
   "metadata": {},
   "source": [
    "## 14번"
   ]
  },
  {
   "cell_type": "code",
   "execution_count": 29,
   "id": "44e0af17",
   "metadata": {},
   "outputs": [
    {
     "name": "stdout",
     "output_type": "stream",
     "text": [
      "[[0. 0. 0. 0. 0.]\n",
      " [0. 0. 0. 0. 0.]\n",
      " [0. 0. 0. 0. 0.]\n",
      " [0. 0. 0. 0. 0.]\n",
      " [0. 0. 0. 0. 0.]]\n",
      "[[0. 1. 2. 3. 4.]\n",
      " [0. 1. 2. 3. 4.]\n",
      " [0. 1. 2. 3. 4.]\n",
      " [0. 1. 2. 3. 4.]\n",
      " [0. 1. 2. 3. 4.]]\n"
     ]
    }
   ],
   "source": [
    "z = np.zeros((5,5))\n",
    "print(z)\n",
    "z+=np.arange(5)\n",
    "print(z)"
   ]
  },
  {
   "cell_type": "markdown",
   "id": "85ada5f4",
   "metadata": {},
   "source": [
    "## 15번"
   ]
  },
  {
   "cell_type": "code",
   "execution_count": 34,
   "id": "98a35987",
   "metadata": {},
   "outputs": [
    {
     "name": "stdout",
     "output_type": "stream",
     "text": [
      "[0.02274688 0.05394912 0.1012852  0.21657969 0.36953355 0.55433831\n",
      " 0.57695491 0.65458343 0.6854963  0.89556628]\n"
     ]
    }
   ],
   "source": [
    "v = np.random.random(10)\n",
    "v.sort()\n",
    "print(v)"
   ]
  },
  {
   "cell_type": "markdown",
   "id": "377f8455",
   "metadata": {},
   "source": [
    "## 16번"
   ]
  },
  {
   "cell_type": "code",
   "execution_count": 35,
   "id": "6d68f1ac",
   "metadata": {},
   "outputs": [
    {
     "name": "stdout",
     "output_type": "stream",
     "text": [
      "[0 1 2 3 4 5 6 7 8 9]\n",
      "45\n"
     ]
    }
   ],
   "source": [
    "A = np.arange(10)\n",
    "print(A)\n",
    "print(np.add.reduce(A))"
   ]
  },
  {
   "cell_type": "markdown",
   "id": "455dca00",
   "metadata": {},
   "source": [
    "## 17번"
   ]
  },
  {
   "cell_type": "code",
   "execution_count": 45,
   "id": "17b7fe53",
   "metadata": {},
   "outputs": [
    {
     "name": "stdout",
     "output_type": "stream",
     "text": [
      "[1 0 1 1 1]\n",
      "[0 1 0 0 1]\n",
      "False\n",
      "False\n"
     ]
    }
   ],
   "source": [
    "a = np.random.randint(0, 2, 5)\n",
    "b = np.random.randint(0, 2, 5)\n",
    "print(a)\n",
    "print(b)\n",
    "print(np.allclose(a,b))\n",
    "print(np.array_equal(a,b))"
   ]
  },
  {
   "cell_type": "markdown",
   "id": "9807a539",
   "metadata": {},
   "source": [
    "## 18번"
   ]
  },
  {
   "cell_type": "code",
   "execution_count": 51,
   "id": "7c133492",
   "metadata": {},
   "outputs": [
    {
     "name": "stdout",
     "output_type": "stream",
     "text": [
      "[3 8 9 7 3 5 0 0 0 1]\n",
      "0\n",
      "6\n",
      "인덱스: 3/ 값: 7\n"
     ]
    }
   ],
   "source": [
    "num = 7.3\n",
    "z = np.random.randint(0, 10, 10)\n",
    "print(z)\n",
    "\n",
    "print(np.min(z))\n",
    "print(np.argmin(z))\n",
    "idx = abs(z-7.3).argmin()\n",
    "print('인덱스: {}/ 값: {}'.format(idx, z[idx]))"
   ]
  },
  {
   "cell_type": "markdown",
   "id": "53ea8ad5",
   "metadata": {},
   "source": [
    "## 19번"
   ]
  },
  {
   "cell_type": "code",
   "execution_count": 70,
   "id": "4ff98bbb",
   "metadata": {},
   "outputs": [
    {
     "name": "stdout",
     "output_type": "stream",
     "text": [
      "[[ 0  1  2  3  4]\n",
      " [ 5  6  7  8  9]\n",
      " [10 11 12 13 14]\n",
      " [15 16 17 18 19]\n",
      " [20 21 22 23 24]]\n",
      "[[ 5  6  7  8  9]\n",
      " [ 0  1  2  3  4]\n",
      " [10 11 12 13 14]\n",
      " [15 16 17 18 19]\n",
      " [20 21 22 23 24]]\n"
     ]
    }
   ],
   "source": [
    "A = np.arange(25).reshape(5,5)\n",
    "print(A)\n",
    "A[[0,1]] = A[[1,0]]\n",
    "print(A)"
   ]
  },
  {
   "cell_type": "code",
   "execution_count": null,
   "id": "5b4c09d0",
   "metadata": {},
   "outputs": [],
   "source": []
  }
 ],
 "metadata": {
  "kernelspec": {
   "display_name": "Python 3 (ipykernel)",
   "language": "python",
   "name": "python3"
  },
  "language_info": {
   "codemirror_mode": {
    "name": "ipython",
    "version": 3
   },
   "file_extension": ".py",
   "mimetype": "text/x-python",
   "name": "python",
   "nbconvert_exporter": "python",
   "pygments_lexer": "ipython3",
   "version": "3.10.4"
  }
 },
 "nbformat": 4,
 "nbformat_minor": 5
}
