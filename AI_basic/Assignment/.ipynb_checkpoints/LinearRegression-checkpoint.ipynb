{
 "cells": [
  {
   "cell_type": "code",
   "execution_count": 1,
   "id": "f921141f",
   "metadata": {},
   "outputs": [],
   "source": [
    "import numpy as np"
   ]
  },
  {
   "cell_type": "markdown",
   "id": "4cbc1a00",
   "metadata": {},
   "source": [
    "## 학습 데이터 만들기"
   ]
  },
  {
   "cell_type": "code",
   "execution_count": 2,
   "id": "43b48a23",
   "metadata": {},
   "outputs": [],
   "source": [
    "x = np.arange(10)\n",
    "y = 2*x+1"
   ]
  },
  {
   "cell_type": "code",
   "execution_count": 3,
   "id": "e6351097",
   "metadata": {},
   "outputs": [
    {
     "data": {
      "text/plain": [
       "array([0, 1, 2, 3, 4, 5, 6, 7, 8, 9])"
      ]
     },
     "execution_count": 3,
     "metadata": {},
     "output_type": "execute_result"
    }
   ],
   "source": [
    "x"
   ]
  },
  {
   "cell_type": "code",
   "execution_count": 4,
   "id": "b0aedf3f",
   "metadata": {},
   "outputs": [
    {
     "data": {
      "text/plain": [
       "array([ 1,  3,  5,  7,  9, 11, 13, 15, 17, 19])"
      ]
     },
     "execution_count": 4,
     "metadata": {},
     "output_type": "execute_result"
    }
   ],
   "source": [
    "y"
   ]
  },
  {
   "cell_type": "markdown",
   "id": "10914d52",
   "metadata": {},
   "source": [
    "## Train"
   ]
  },
  {
   "cell_type": "code",
   "execution_count": 5,
   "id": "a2146abc",
   "metadata": {},
   "outputs": [],
   "source": [
    "ndata = len(x)\n",
    "epoch = 1000\n",
    "lr = 0.01 # learning rate\n",
    "W = 0.0 # y = Wx + b\n",
    "b = 0.0"
   ]
  },
  {
   "cell_type": "code",
   "execution_count": 6,
   "id": "d318afc0",
   "metadata": {},
   "outputs": [
    {
     "name": "stdout",
     "output_type": "stream",
     "text": [
      "Epoch (   0/1000) cost: 133.000, W: 1.230, b:0.200\n",
      "Epoch ( 100/1000) cost: 0.041, W: 2.060, b:0.625\n",
      "Epoch ( 200/1000) cost: 0.013, W: 2.034, b:0.787\n",
      "Epoch ( 300/1000) cost: 0.004, W: 2.019, b:0.879\n",
      "Epoch ( 400/1000) cost: 0.001, W: 2.011, b:0.931\n",
      "Epoch ( 500/1000) cost: 0.000, W: 2.006, b:0.961\n",
      "Epoch ( 600/1000) cost: 0.000, W: 2.004, b:0.978\n",
      "Epoch ( 700/1000) cost: 0.000, W: 2.002, b:0.987\n",
      "Epoch ( 800/1000) cost: 0.000, W: 2.001, b:0.993\n",
      "Epoch ( 900/1000) cost: 0.000, W: 2.001, b:0.996\n"
     ]
    }
   ],
   "source": [
    "for i in range(epoch):\n",
    "    hypothesis = W*x + b\n",
    "    cost = np.sum((hypothesis-y)**2)/ndata # Mean Squared Error(MSE) 이용\n",
    "    gradientW = np.sum(2*(W*x+b-y)*x)/ndata # W로 편미분\n",
    "    gradientb = np.sum(2*(W*x+b-y))/ndata # b로 편미분\n",
    "    W-=lr*gradientW\n",
    "    b-=lr*gradientb\n",
    "    \n",
    "    if i % 100 == 0:\n",
    "        print('Epoch ({:4d}/{:4d}) cost: {:.3f}, W: {:.3f}, b:{:.3f}'.format(i, epoch, cost, W, b))"
   ]
  },
  {
   "cell_type": "markdown",
   "id": "f3a157a0",
   "metadata": {},
   "source": [
    "## 결과 확인\n",
    "학습 결과 W와 b가 각각 2와 1에 가까워짐을 확인할 수 있다."
   ]
  },
  {
   "cell_type": "code",
   "execution_count": 7,
   "id": "3554279e",
   "metadata": {},
   "outputs": [
    {
     "data": {
      "text/plain": [
       "2.000367648608427"
      ]
     },
     "execution_count": 7,
     "metadata": {},
     "output_type": "execute_result"
    }
   ],
   "source": [
    "W"
   ]
  },
  {
   "cell_type": "code",
   "execution_count": 8,
   "id": "b8b3d7e0",
   "metadata": {},
   "outputs": [
    {
     "data": {
      "text/plain": [
       "0.9976946278405756"
      ]
     },
     "execution_count": 8,
     "metadata": {},
     "output_type": "execute_result"
    }
   ],
   "source": [
    "b"
   ]
  }
 ],
 "metadata": {
  "kernelspec": {
   "display_name": "Python 3 (ipykernel)",
   "language": "python",
   "name": "python3"
  },
  "language_info": {
   "codemirror_mode": {
    "name": "ipython",
    "version": 3
   },
   "file_extension": ".py",
   "mimetype": "text/x-python",
   "name": "python",
   "nbconvert_exporter": "python",
   "pygments_lexer": "ipython3",
   "version": "3.10.4"
  }
 },
 "nbformat": 4,
 "nbformat_minor": 5
}
