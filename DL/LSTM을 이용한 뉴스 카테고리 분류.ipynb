{
 "cells": [
  {
   "cell_type": "markdown",
   "id": "da22478a",
   "metadata": {},
   "source": [
    "# LSTM을 이용한 뉴스 카테고리 분류"
   ]
  },
  {
   "cell_type": "code",
   "execution_count": 1,
   "id": "5df89f51",
   "metadata": {},
   "outputs": [],
   "source": [
    "import os\n",
    "import numpy as np\n",
    "import matplotlib.pyplot as plt\n",
    "%matplotlib inline\n",
    "\n",
    "from tensorflow.keras.datasets import reuters\n",
    "from tensorflow.keras.models import Sequential\n",
    "from tensorflow.keras.utils import to_categorical\n",
    "from tensorflow.keras.preprocessing import sequence\n",
    "from tensorflow.keras.callbacks import EarlyStopping\n",
    "from tensorflow.keras.layers import Dense, LSTM, Embedding"
   ]
  },
  {
   "cell_type": "markdown",
   "id": "ce285e2d",
   "metadata": {},
   "source": [
    "## GPU 설정"
   ]
  },
  {
   "cell_type": "code",
   "execution_count": 2,
   "id": "c5cdf9c1",
   "metadata": {},
   "outputs": [],
   "source": [
    "os.environ[\"CUDA_VISIBLE_DEVICES\"] = \"0\""
   ]
  },
  {
   "cell_type": "markdown",
   "id": "4a559eeb",
   "metadata": {},
   "source": [
    "## 데이터 불러오기"
   ]
  },
  {
   "cell_type": "code",
   "execution_count": 3,
   "id": "4cc2c80a",
   "metadata": {},
   "outputs": [],
   "source": [
    "(X_train, y_train), (X_test, y_test) = reuters.load_data(num_words=1000, test_split=0.2)"
   ]
  },
  {
   "cell_type": "markdown",
   "id": "a01e216e",
   "metadata": {},
   "source": [
    "## 데이터 확인"
   ]
  },
  {
   "cell_type": "code",
   "execution_count": 4,
   "id": "5810b401",
   "metadata": {},
   "outputs": [
    {
     "name": "stdout",
     "output_type": "stream",
     "text": [
      "46 카테코리\n",
      "8982 학습용 뉴스 기사\n",
      "2246 테스트용 뉴스 기사\n",
      "[1, 2, 2, 8, 43, 10, 447, 5, 25, 207, 270, 5, 2, 111, 16, 369, 186, 90, 67, 7, 89, 5, 19, 102, 6, 19, 124, 15, 90, 67, 84, 22, 482, 26, 7, 48, 4, 49, 8, 864, 39, 209, 154, 6, 151, 6, 83, 11, 15, 22, 155, 11, 15, 7, 48, 9, 2, 2, 504, 6, 258, 6, 272, 11, 15, 22, 134, 44, 11, 15, 16, 8, 197, 2, 90, 67, 52, 29, 209, 30, 32, 132, 6, 109, 15, 17, 12]\n"
     ]
    }
   ],
   "source": [
    "category = np.max(y_train)+1\n",
    "print(category, \"카테코리\")\n",
    "print(len(X_train), '학습용 뉴스 기사')\n",
    "print(len(X_test), '테스트용 뉴스 기사')\n",
    "print(X_train[0])"
   ]
  },
  {
   "cell_type": "markdown",
   "id": "103524df",
   "metadata": {},
   "source": [
    "## One-hot Encoding"
   ]
  },
  {
   "cell_type": "code",
   "execution_count": 5,
   "id": "910c0a48",
   "metadata": {},
   "outputs": [],
   "source": [
    "y_train = to_categorical(y_train)\n",
    "y_test = to_categorical(y_test)"
   ]
  },
  {
   "cell_type": "markdown",
   "id": "8c3ad41d",
   "metadata": {},
   "source": [
    "## Modeling"
   ]
  },
  {
   "cell_type": "code",
   "execution_count": 6,
   "id": "24d7f6ca",
   "metadata": {},
   "outputs": [],
   "source": [
    "model = Sequential()\n",
    "model.add(Embedding(1000, 100))\n",
    "model.add(LSTM(100, activation='tanh'))\n",
    "model.add(Dense(46, activation='softmax'))"
   ]
  },
  {
   "cell_type": "markdown",
   "id": "98a032fe",
   "metadata": {},
   "source": [
    "## Padding"
   ]
  },
  {
   "cell_type": "code",
   "execution_count": 7,
   "id": "5892c135",
   "metadata": {},
   "outputs": [],
   "source": [
    "X_train = sequence.pad_sequences(X_train, maxlen=100)\n",
    "X_test = sequence.pad_sequences(X_test, maxlen=100)"
   ]
  },
  {
   "cell_type": "markdown",
   "id": "de0f7cec",
   "metadata": {},
   "source": [
    "## Train"
   ]
  },
  {
   "cell_type": "code",
   "execution_count": 8,
   "id": "aa31a14c",
   "metadata": {},
   "outputs": [
    {
     "name": "stdout",
     "output_type": "stream",
     "text": [
      "Epoch 1/200\n",
      "450/450 [==============================] - 10s 15ms/step - loss: 2.2291 - accuracy: 0.4344 - val_loss: 1.8249 - val_accuracy: 0.5392\n",
      "Epoch 2/200\n",
      "450/450 [==============================] - 7s 15ms/step - loss: 1.7356 - accuracy: 0.5483 - val_loss: 1.7232 - val_accuracy: 0.5632\n",
      "Epoch 3/200\n",
      "450/450 [==============================] - 7s 15ms/step - loss: 1.5618 - accuracy: 0.5949 - val_loss: 1.5195 - val_accuracy: 0.6118\n",
      "Epoch 4/200\n",
      "450/450 [==============================] - 7s 15ms/step - loss: 1.4363 - accuracy: 0.6310 - val_loss: 1.4660 - val_accuracy: 0.6207\n",
      "Epoch 5/200\n",
      "450/450 [==============================] - 7s 15ms/step - loss: 1.3030 - accuracy: 0.6671 - val_loss: 1.3983 - val_accuracy: 0.6451\n",
      "Epoch 6/200\n",
      "450/450 [==============================] - 7s 15ms/step - loss: 1.1994 - accuracy: 0.6987 - val_loss: 1.3295 - val_accuracy: 0.6679\n",
      "Epoch 7/200\n",
      "450/450 [==============================] - 7s 15ms/step - loss: 1.1053 - accuracy: 0.7187 - val_loss: 1.2399 - val_accuracy: 0.6861\n",
      "Epoch 8/200\n",
      "450/450 [==============================] - 7s 15ms/step - loss: 1.0130 - accuracy: 0.7417 - val_loss: 1.1967 - val_accuracy: 0.7008\n",
      "Epoch 9/200\n",
      "450/450 [==============================] - 7s 15ms/step - loss: 0.9464 - accuracy: 0.7562 - val_loss: 1.1847 - val_accuracy: 0.7012\n",
      "Epoch 10/200\n",
      "450/450 [==============================] - 7s 15ms/step - loss: 0.8798 - accuracy: 0.7766 - val_loss: 1.1823 - val_accuracy: 0.7053\n",
      "Epoch 11/200\n",
      "450/450 [==============================] - 6s 14ms/step - loss: 0.8167 - accuracy: 0.7888 - val_loss: 1.1673 - val_accuracy: 0.7008\n",
      "Epoch 12/200\n",
      "450/450 [==============================] - 6s 14ms/step - loss: 0.7461 - accuracy: 0.8084 - val_loss: 1.1670 - val_accuracy: 0.7213\n",
      "Epoch 13/200\n",
      "450/450 [==============================] - 6s 14ms/step - loss: 0.6970 - accuracy: 0.8230 - val_loss: 1.1539 - val_accuracy: 0.7155\n",
      "Epoch 14/200\n",
      "450/450 [==============================] - 6s 14ms/step - loss: 0.6397 - accuracy: 0.8370 - val_loss: 1.2114 - val_accuracy: 0.7119\n",
      "Epoch 15/200\n",
      "450/450 [==============================] - 6s 14ms/step - loss: 0.5923 - accuracy: 0.8494 - val_loss: 1.1803 - val_accuracy: 0.7226\n",
      "Epoch 16/200\n",
      "450/450 [==============================] - 6s 14ms/step - loss: 0.5500 - accuracy: 0.8585 - val_loss: 1.2151 - val_accuracy: 0.7289\n",
      "Epoch 17/200\n",
      "450/450 [==============================] - 6s 14ms/step - loss: 0.5052 - accuracy: 0.8716 - val_loss: 1.2621 - val_accuracy: 0.7155\n",
      "Epoch 18/200\n",
      "450/450 [==============================] - 6s 14ms/step - loss: 0.4570 - accuracy: 0.8830 - val_loss: 1.2876 - val_accuracy: 0.7275\n"
     ]
    }
   ],
   "source": [
    "early_stopping_callback = EarlyStopping(monitor='val_loss', patience=5)\n",
    "\n",
    "model.compile(loss='categorical_crossentropy', optimizer='adam', metrics=['accuracy'])\n",
    "history = model.fit(X_train, y_train, batch_size=20, epochs=200, \n",
    "                    validation_data=(X_test, y_test), callbacks=[early_stopping_callback])"
   ]
  },
  {
   "cell_type": "markdown",
   "id": "fdfbe5f2",
   "metadata": {},
   "source": [
    "## Test"
   ]
  },
  {
   "cell_type": "code",
   "execution_count": 9,
   "id": "ff5bb92e",
   "metadata": {},
   "outputs": [
    {
     "name": "stdout",
     "output_type": "stream",
     "text": [
      "71/71 [==============================] - 0s 7ms/step - loss: 1.2876 - accuracy: 0.7275\n",
      "Test Accuracy: 0.7275\n"
     ]
    }
   ],
   "source": [
    "print(\"Test Accuracy: {:.4f}\".format(model.evaluate(X_test, y_test)[1]))"
   ]
  },
  {
   "cell_type": "markdown",
   "id": "80f9087c",
   "metadata": {},
   "source": [
    "## 시각화"
   ]
  },
  {
   "cell_type": "code",
   "execution_count": 10,
   "id": "c04da1ec",
   "metadata": {},
   "outputs": [
    {
     "data": {
      "image/png": "[encoded data removed]",
      "text/plain": [
       "<Figure size 432x288 with 1 Axes>"
      ]
     },
     "metadata": {
      "needs_background": "light"
     },
     "output_type": "display_data"
    }
   ],
   "source": [
    "y_loss = history.history['loss']\n",
    "y_vloss = history.history['val_loss']\n",
    "\n",
    "x_len = np.arange(len(y_loss))\n",
    "plt.plot(x_len, y_loss, marker='.', c='blue', label='Trainset loss')\n",
    "plt.plot(x_len, y_vloss, marker='.', c='red', label='Validation loss')\n",
    "\n",
    "plt.legend(loc='upper right')\n",
    "plt.grid()\n",
    "plt.xlabel('epoch')\n",
    "plt.ylabel('loss')\n",
    "plt.show()"
   ]
  }
 ],
 "metadata": {
  "kernelspec": {
   "display_name": "Python 3",
   "language": "python",
   "name": "python3"
  },
  "language_info": {
   "codemirror_mode": {
    "name": "ipython",
    "version": 3
   },
   "file_extension": ".py",
   "mimetype": "text/x-python",
   "name": "python",
   "nbconvert_exporter": "python",
   "pygments_lexer": "ipython3",
   "version": "3.6.13"
  }
 },
 "nbformat": 4,
 "nbformat_minor": 5
}
