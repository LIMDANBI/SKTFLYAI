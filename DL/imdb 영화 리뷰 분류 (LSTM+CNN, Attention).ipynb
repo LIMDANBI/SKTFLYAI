{
 "cells": [
  {
   "cell_type": "markdown",
   "id": "e4f8150d",
   "metadata": {},
   "source": [
    "# LSTM + CNN / Attention 을 이용한 imdb 영화리뷰 분류"
   ]
  },
  {
   "cell_type": "code",
   "execution_count": 1,
   "id": "c270f78b",
   "metadata": {
    "scrolled": true
   },
   "outputs": [],
   "source": [
    "import os\n",
    "import numpy as np\n",
    "import matplotlib.pyplot as plt\n",
    "%matplotlib inline\n",
    "\n",
    "from attention import Attention # !pip install Attention \n",
    "from tensorflow.keras.datasets import imdb\n",
    "from tensorflow.keras.models import Sequential\n",
    "from tensorflow.keras.preprocessing import sequence\n",
    "from tensorflow.keras.callbacks import EarlyStopping\n",
    "from tensorflow.keras.layers import Dense, Dropout, Activation, Conv1D, MaxPooling1D, LSTM, Embedding"
   ]
  },
  {
   "cell_type": "markdown",
   "id": "dbfc8eaa",
   "metadata": {},
   "source": [
    "## GPU 설정"
   ]
  },
  {
   "cell_type": "code",
   "execution_count": 2,
   "id": "2e19d953",
   "metadata": {},
   "outputs": [],
   "source": [
    "# from tensorflow.python.client import device_lib\n",
    "# device_lib.list_local_devices()\n",
    "os.environ[\"CUDA_VISIBLE_DEVICES\"] = \"0\""
   ]
  },
  {
   "cell_type": "markdown",
   "id": "dd995d9a",
   "metadata": {},
   "source": [
    "## 데이터 불러오기"
   ]
  },
  {
   "cell_type": "code",
   "execution_count": 3,
   "id": "d0eaa6ad",
   "metadata": {},
   "outputs": [],
   "source": [
    "(X_train, y_train), (X_test, y_test) = imdb.load_data(num_words=5000)"
   ]
  },
  {
   "cell_type": "markdown",
   "id": "0c36e93e",
   "metadata": {},
   "source": [
    "## Padding"
   ]
  },
  {
   "cell_type": "code",
   "execution_count": 4,
   "id": "5422a0e5",
   "metadata": {},
   "outputs": [],
   "source": [
    "X_train = sequence.pad_sequences(X_train, maxlen=500)\n",
    "X_test = sequence.pad_sequences(X_test, maxlen=500)"
   ]
  },
  {
   "cell_type": "markdown",
   "id": "a7d7c9ab",
   "metadata": {},
   "source": [
    "## Model (LSTM + CNN)"
   ]
  },
  {
   "cell_type": "code",
   "execution_count": 5,
   "id": "5116933f",
   "metadata": {},
   "outputs": [],
   "source": [
    "model = Sequential()\n",
    "model.add(Embedding(5000, 100))\n",
    "model.add(Dropout(0.5))\n",
    "model.add(Conv1D(64, 5, padding='valid', activation='relu', strides=1)) # filters = 64, kernel_size = 5\n",
    "model.add(MaxPooling1D(pool_size=4))\n",
    "model.add(LSTM(55))\n",
    "model.add(Dense(1))\n",
    "model.add(Activation('sigmoid'))"
   ]
  },
  {
   "cell_type": "markdown",
   "id": "99f030cf",
   "metadata": {},
   "source": [
    "## Train"
   ]
  },
  {
   "cell_type": "code",
   "execution_count": 6,
   "id": "db824644",
   "metadata": {},
   "outputs": [
    {
     "name": "stdout",
     "output_type": "stream",
     "text": [
      "Epoch 1/100\n",
      "469/469 [==============================] - 14s 21ms/step - loss: 0.4259 - accuracy: 0.7842 - val_loss: 0.3195 - val_accuracy: 0.8675\n",
      "Epoch 2/100\n",
      "469/469 [==============================] - 10s 21ms/step - loss: 0.2374 - accuracy: 0.9074 - val_loss: 0.3035 - val_accuracy: 0.8674\n",
      "Epoch 3/100\n",
      "469/469 [==============================] - 9s 20ms/step - loss: 0.1864 - accuracy: 0.9300 - val_loss: 0.2649 - val_accuracy: 0.8901\n",
      "Epoch 4/100\n",
      "469/469 [==============================] - 9s 20ms/step - loss: 0.1539 - accuracy: 0.9449 - val_loss: 0.2908 - val_accuracy: 0.8896\n",
      "Epoch 5/100\n",
      "469/469 [==============================] - 9s 20ms/step - loss: 0.1185 - accuracy: 0.9580 - val_loss: 0.3010 - val_accuracy: 0.8866\n",
      "Epoch 6/100\n",
      "469/469 [==============================] - 9s 20ms/step - loss: 0.0982 - accuracy: 0.9649 - val_loss: 0.3372 - val_accuracy: 0.8861\n"
     ]
    }
   ],
   "source": [
    "early_stopping_callback = EarlyStopping(monitor='val_loss', patience=3)\n",
    "\n",
    "model.compile(loss='binary_crossentropy', optimizer='adam', metrics=['accuracy'])\n",
    "history = model.fit(X_train, y_train, batch_size=40, epochs=100, \n",
    "                    validation_split=0.25, callbacks=[early_stopping_callback])"
   ]
  },
  {
   "cell_type": "markdown",
   "id": "fe3364e0",
   "metadata": {},
   "source": [
    "## Test "
   ]
  },
  {
   "cell_type": "code",
   "execution_count": 7,
   "id": "1f67f92b",
   "metadata": {},
   "outputs": [
    {
     "name": "stdout",
     "output_type": "stream",
     "text": [
      "782/782 [==============================] - 6s 8ms/step - loss: 0.3615 - accuracy: 0.8820\n",
      "Test Accuracy: 0.8820\n"
     ]
    }
   ],
   "source": [
    "print(\"Test Accuracy: {:.4f}\".format(model.evaluate(X_test, y_test)[1]))"
   ]
  },
  {
   "cell_type": "markdown",
   "id": "bbc9b026",
   "metadata": {},
   "source": [
    "## 시각화"
   ]
  },
  {
   "cell_type": "code",
   "execution_count": 8,
   "id": "fd8df790",
   "metadata": {},
   "outputs": [
    {
     "data": {
      "image/png": "[encoded data removed]",
      "text/plain": [
       "<Figure size 432x288 with 1 Axes>"
      ]
     },
     "metadata": {
      "needs_background": "light"
     },
     "output_type": "display_data"
    }
   ],
   "source": [
    "y_loss = history.history['loss']\n",
    "y_vloss = history.history['val_loss']\n",
    "x_len = np.arange(len(y_loss))\n",
    "\n",
    "plt.plot(x_len, y_loss, marker='.', c='blue', label='Train loss')\n",
    "plt.plot(x_len, y_vloss, marker='.', c='red', label=\"Validation loss\")\n",
    "plt.legend(loc = \"upper right\")\n",
    "plt.grid()\n",
    "plt.xlabel('epoch')\n",
    "plt.ylabel('loss')\n",
    "plt.show()"
   ]
  },
  {
   "cell_type": "markdown",
   "id": "b58dfb29",
   "metadata": {},
   "source": [
    "## Model (Attention)"
   ]
  },
  {
   "cell_type": "code",
   "execution_count": 9,
   "id": "2e30c79b",
   "metadata": {},
   "outputs": [
    {
     "name": "stdout",
     "output_type": "stream",
     "text": [
      "Model: \"sequential\"\n",
      "_________________________________________________________________\n",
      "Layer (type)                 Output Shape              Param #   \n",
      "=================================================================\n",
      "embedding (Embedding)        (None, None, 100)         500000    \n",
      "_________________________________________________________________\n",
      "dropout (Dropout)            (None, None, 100)         0         \n",
      "_________________________________________________________________\n",
      "conv1d (Conv1D)              (None, None, 64)          32064     \n",
      "_________________________________________________________________\n",
      "max_pooling1d (MaxPooling1D) (None, None, 64)          0         \n",
      "_________________________________________________________________\n",
      "lstm (LSTM)                  (None, 55)                26400     \n",
      "_________________________________________________________________\n",
      "dense (Dense)                (None, 1)                 56        \n",
      "_________________________________________________________________\n",
      "activation (Activation)      (None, 1)                 0         \n",
      "=================================================================\n",
      "Total params: 558,520\n",
      "Trainable params: 558,520\n",
      "Non-trainable params: 0\n",
      "_________________________________________________________________\n"
     ]
    }
   ],
   "source": [
    "AttentionModel = Sequential()\n",
    "AttentionModel.add(Embedding(5000, 500))\n",
    "AttentionModel.add(Dropout(0.5))\n",
    "AttentionModel.add(LSTM(64, return_sequences=True))\n",
    "AttentionModel.add(Attention())\n",
    "AttentionModel.add(Dropout(0.5))\n",
    "AttentionModel.add(Dense(1))\n",
    "AttentionModel.add(Activation('sigmoid'))\n",
    "\n",
    "model.summary()"
   ]
  },
  {
   "cell_type": "code",
   "execution_count": 10,
   "id": "645cdf34",
   "metadata": {},
   "outputs": [
    {
     "name": "stdout",
     "output_type": "stream",
     "text": [
      "Epoch 1/100\n",
      "469/469 [==============================] - 21s 41ms/step - loss: 0.4339 - accuracy: 0.7858 - val_loss: 0.3355 - val_accuracy: 0.8579\n",
      "Epoch 2/100\n",
      "469/469 [==============================] - 19s 39ms/step - loss: 0.2322 - accuracy: 0.9084 - val_loss: 0.2829 - val_accuracy: 0.8830\n",
      "Epoch 3/100\n",
      "469/469 [==============================] - 19s 40ms/step - loss: 0.1659 - accuracy: 0.9380 - val_loss: 0.3161 - val_accuracy: 0.8776\n",
      "Epoch 4/100\n",
      "469/469 [==============================] - 19s 40ms/step - loss: 0.1167 - accuracy: 0.9574 - val_loss: 0.3614 - val_accuracy: 0.8710\n",
      "Epoch 5/100\n",
      "469/469 [==============================] - 19s 40ms/step - loss: 0.0803 - accuracy: 0.9701 - val_loss: 0.4636 - val_accuracy: 0.8630\n"
     ]
    }
   ],
   "source": [
    "AttentionModel.compile(loss='binary_crossentropy', optimizer='adam', metrics=['accuracy'])\n",
    "AttentionHistory = AttentionModel.fit(X_train, y_train, batch_size=40, epochs=100, \n",
    "                                      validation_split=0.25, callbacks=[early_stopping_callback])"
   ]
  },
  {
   "cell_type": "markdown",
   "id": "b8338852",
   "metadata": {},
   "source": [
    "## Test"
   ]
  },
  {
   "cell_type": "code",
   "execution_count": 11,
   "id": "078940f3",
   "metadata": {},
   "outputs": [
    {
     "name": "stdout",
     "output_type": "stream",
     "text": [
      "782/782 [==============================] - 14s 18ms/step - loss: 0.4662 - accuracy: 0.8650\n",
      "Test Accuracy: 0.8650\n"
     ]
    }
   ],
   "source": [
    "print(\"Test Accuracy: {:.4f}\".format(AttentionModel.evaluate(X_test, y_test)[1]))"
   ]
  },
  {
   "cell_type": "code",
   "execution_count": 12,
   "id": "fbe606bc",
   "metadata": {},
   "outputs": [
    {
     "data": {
      "image/png": "[encoded data removed]",
      "text/plain": [
       "<Figure size 432x288 with 1 Axes>"
      ]
     },
     "metadata": {
      "needs_background": "light"
     },
     "output_type": "display_data"
    }
   ],
   "source": [
    "y_loss = AttentionHistory.history['loss']\n",
    "y_vloss = AttentionHistory.history['val_loss']\n",
    "x_len = np.arange(len(y_loss))\n",
    "\n",
    "plt.plot(x_len, y_loss, marker='.', c='blue', label='Train loss')\n",
    "plt.plot(x_len, y_vloss, marker='.', c='red', label=\"Validation loss\")\n",
    "plt.legend(loc = \"upper right\")\n",
    "plt.grid()\n",
    "plt.xlabel('epoch')\n",
    "plt.ylabel('loss')\n",
    "plt.show()"
   ]
  }
 ],
 "metadata": {
  "kernelspec": {
   "display_name": "Python 3",
   "language": "python",
   "name": "python3"
  },
  "language_info": {
   "codemirror_mode": {
    "name": "ipython",
    "version": 3
   },
   "file_extension": ".py",
   "mimetype": "text/x-python",
   "name": "python",
   "nbconvert_exporter": "python",
   "pygments_lexer": "ipython3",
   "version": "3.6.13"
  }
 },
 "nbformat": 4,
 "nbformat_minor": 5
}
