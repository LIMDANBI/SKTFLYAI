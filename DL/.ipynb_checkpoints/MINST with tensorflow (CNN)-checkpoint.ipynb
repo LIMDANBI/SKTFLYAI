{
 "cells": [
  {
   "cell_type": "markdown",
   "id": "1d9d4df8",
   "metadata": {},
   "source": [
    "# MINST Classification with CNN"
   ]
  },
  {
   "cell_type": "code",
   "execution_count": 1,
   "id": "7dc9d95d",
   "metadata": {},
   "outputs": [],
   "source": [
    "import os\n",
    "import sys\n",
    "import numpy as np\n",
    "import matplotlib.pyplot as plt\n",
    "%matplotlib inline\n",
    "\n",
    "from tensorflow.keras.datasets import mnist\n",
    "\n",
    "from tensorflow.keras.models import Sequential\n",
    "from tensorflow.keras.utils import to_categorical\n",
    "from tensorflow.keras.callbacks import ModelCheckpoint, EarlyStopping\n",
    "from tensorflow.keras.layers import Dense, Dropout, Flatten, Conv2D, MaxPool2D"
   ]
  },
  {
   "cell_type": "markdown",
   "id": "260c292d",
   "metadata": {},
   "source": [
    "## GPU 설정\n",
    "\n",
    "failed to get convolution algorithm. this is probably because cudnn failed to initialize, so try looking to see if a warning log message was printed above. [[node sequential/conv2d/conv2d (defined at <ipython-input-9-3c2a65c199e0>:3) ]] [op:__inference_train_function_812]\n",
    "\n",
    "**-> 다른 파일(.ipynb)에 텐서플로우를 실행하고 커널이 할당되어 있는 상태에서 위와 같은 오류가 난 것으로 판단, 실행하는 파일의 커널만 살리고 나머지는 셧다운시켰더니 해결**"
   ]
  },
  {
   "cell_type": "code",
   "execution_count": 2,
   "id": "cd4cd861",
   "metadata": {},
   "outputs": [],
   "source": [
    "# from tensorflow.python.client import device_lib\n",
    "# device_lib.list_local_devices()"
   ]
  },
  {
   "cell_type": "code",
   "execution_count": 3,
   "id": "7591f4a2",
   "metadata": {},
   "outputs": [],
   "source": [
    "os.environ[\"CUDA_VISIBLE_DEVICES\"] = \"0\""
   ]
  },
  {
   "cell_type": "markdown",
   "id": "85037829",
   "metadata": {},
   "source": [
    "## MNIST 데이터 불러오기"
   ]
  },
  {
   "cell_type": "code",
   "execution_count": 4,
   "id": "2f7dad7c",
   "metadata": {},
   "outputs": [],
   "source": [
    "(X_train, y_train), (X_test, y_test) = mnist.load_data()"
   ]
  },
  {
   "cell_type": "code",
   "execution_count": 5,
   "id": "23e08458",
   "metadata": {},
   "outputs": [
    {
     "data": {
      "text/plain": [
       "(60000, 28, 28)"
      ]
     },
     "execution_count": 5,
     "metadata": {},
     "output_type": "execute_result"
    }
   ],
   "source": [
    "X_train.shape"
   ]
  },
  {
   "cell_type": "markdown",
   "id": "29cd15c4",
   "metadata": {},
   "source": [
    "## 데이터 차원 변환"
   ]
  },
  {
   "cell_type": "code",
   "execution_count": 6,
   "id": "8004dd42",
   "metadata": {},
   "outputs": [],
   "source": [
    "X_train = X_train.reshape(X_train.shape[0], 28, 28, 1).astype('float32')/255\n",
    "X_test = X_test.reshape(X_test.shape[0], 28, 28, 1).astype('float32')/255\n",
    "y_train = to_categorical(y_train, 10)\n",
    "y_test = to_categorical(y_test, 10)"
   ]
  },
  {
   "cell_type": "markdown",
   "id": "0b563de9",
   "metadata": {},
   "source": [
    "## 모델링"
   ]
  },
  {
   "cell_type": "code",
   "execution_count": 7,
   "id": "2730737c",
   "metadata": {},
   "outputs": [
    {
     "name": "stdout",
     "output_type": "stream",
     "text": [
      "Model: \"sequential\"\n",
      "_________________________________________________________________\n",
      "Layer (type)                 Output Shape              Param #   \n",
      "=================================================================\n",
      "conv2d (Conv2D)              (None, 26, 26, 32)        320       \n",
      "_________________________________________________________________\n",
      "conv2d_1 (Conv2D)            (None, 24, 24, 64)        18496     \n",
      "_________________________________________________________________\n",
      "max_pooling2d (MaxPooling2D) (None, 12, 12, 64)        0         \n",
      "_________________________________________________________________\n",
      "dropout (Dropout)            (None, 12, 12, 64)        0         \n",
      "_________________________________________________________________\n",
      "flatten (Flatten)            (None, 9216)              0         \n",
      "_________________________________________________________________\n",
      "dense (Dense)                (None, 128)               1179776   \n",
      "_________________________________________________________________\n",
      "dropout_1 (Dropout)          (None, 128)               0         \n",
      "_________________________________________________________________\n",
      "dense_1 (Dense)              (None, 10)                1290      \n",
      "=================================================================\n",
      "Total params: 1,199,882\n",
      "Trainable params: 1,199,882\n",
      "Non-trainable params: 0\n",
      "_________________________________________________________________\n"
     ]
    }
   ],
   "source": [
    "model = Sequential()\n",
    "model.add(Conv2D(32, kernel_size=(3,3), input_shape=(28,28,1), activation='relu'))\n",
    "model.add(Conv2D(64, kernel_size=(3,3), activation='relu'))\n",
    "model.add(MaxPool2D(pool_size=(2,2)))\n",
    "model.add(Dropout(0.25))\n",
    "model.add(Flatten())\n",
    "model.add(Dense(128, activation='relu'))\n",
    "model.add(Dropout(0.5))\n",
    "model.add(Dense(10, activation='softmax'))\n",
    "model.summary()"
   ]
  },
  {
   "cell_type": "code",
   "execution_count": 8,
   "id": "8ad0dab4",
   "metadata": {},
   "outputs": [],
   "source": [
    "# for 모델 최적화\n",
    "model_path = './model/MNIST_CNN.hdf5'\n",
    "checkpointer = ModelCheckpoint(filepath=model_path, monitor='val_loss', verbose=1, save_best_only=True)\n",
    "early_stopping_callback = EarlyStopping(monitor='val_loss', patience=10)"
   ]
  },
  {
   "cell_type": "markdown",
   "id": "6d7476d0",
   "metadata": {},
   "source": [
    "## Train"
   ]
  },
  {
   "cell_type": "code",
   "execution_count": 9,
   "id": "d6b11f18",
   "metadata": {},
   "outputs": [
    {
     "name": "stdout",
     "output_type": "stream",
     "text": [
      "\n",
      "Epoch 00001: val_loss improved from inf to 0.07613, saving model to ./model/MNIST_CNN.hdf5\n",
      "\n",
      "Epoch 00002: val_loss improved from 0.07613 to 0.05300, saving model to ./model/MNIST_CNN.hdf5\n",
      "\n",
      "Epoch 00003: val_loss improved from 0.05300 to 0.04835, saving model to ./model/MNIST_CNN.hdf5\n",
      "\n",
      "Epoch 00004: val_loss improved from 0.04835 to 0.04435, saving model to ./model/MNIST_CNN.hdf5\n",
      "\n",
      "Epoch 00005: val_loss did not improve from 0.04435\n",
      "\n",
      "Epoch 00006: val_loss improved from 0.04435 to 0.04225, saving model to ./model/MNIST_CNN.hdf5\n",
      "\n",
      "Epoch 00007: val_loss improved from 0.04225 to 0.03991, saving model to ./model/MNIST_CNN.hdf5\n",
      "\n",
      "Epoch 00008: val_loss did not improve from 0.03991\n",
      "\n",
      "Epoch 00009: val_loss did not improve from 0.03991\n",
      "\n",
      "Epoch 00010: val_loss did not improve from 0.03991\n",
      "\n",
      "Epoch 00011: val_loss did not improve from 0.03991\n",
      "\n",
      "Epoch 00012: val_loss improved from 0.03991 to 0.03916, saving model to ./model/MNIST_CNN.hdf5\n",
      "\n",
      "Epoch 00013: val_loss did not improve from 0.03916\n",
      "\n",
      "Epoch 00014: val_loss did not improve from 0.03916\n",
      "\n",
      "Epoch 00015: val_loss did not improve from 0.03916\n",
      "\n",
      "Epoch 00016: val_loss did not improve from 0.03916\n",
      "\n",
      "Epoch 00017: val_loss did not improve from 0.03916\n",
      "\n",
      "Epoch 00018: val_loss did not improve from 0.03916\n",
      "\n",
      "Epoch 00019: val_loss did not improve from 0.03916\n",
      "\n",
      "Epoch 00020: val_loss did not improve from 0.03916\n",
      "\n",
      "Epoch 00021: val_loss did not improve from 0.03916\n",
      "\n",
      "Epoch 00022: val_loss did not improve from 0.03916\n"
     ]
    }
   ],
   "source": [
    "model.compile(loss='categorical_crossentropy', optimizer='adam', metrics=['accuracy'])\n",
    "history = model.fit(X_train, y_train, validation_split=0.25, epochs=30,\n",
    "         batch_size=200, verbose=0, callbacks=[checkpointer, early_stopping_callback])"
   ]
  },
  {
   "cell_type": "markdown",
   "id": "915fc53b",
   "metadata": {},
   "source": [
    "## Test"
   ]
  },
  {
   "cell_type": "code",
   "execution_count": 10,
   "id": "6c61962d",
   "metadata": {},
   "outputs": [
    {
     "name": "stdout",
     "output_type": "stream",
     "text": [
      "313/313 [==============================] - 2s 5ms/step - loss: 0.0314 - accuracy: 0.9919\n"
     ]
    },
    {
     "data": {
      "text/plain": [
       "[0.03139292448759079, 0.9919000267982483]"
      ]
     },
     "execution_count": 10,
     "metadata": {},
     "output_type": "execute_result"
    }
   ],
   "source": [
    "model.evaluate(X_test, y_test)"
   ]
  },
  {
   "cell_type": "code",
   "execution_count": 11,
   "id": "4111d8f4",
   "metadata": {},
   "outputs": [
    {
     "name": "stdout",
     "output_type": "stream",
     "text": [
      "313/313 [==============================] - 2s 5ms/step - loss: 0.0314 - accuracy: 0.9919\n",
      "Test Accuracy: 0.9919\n"
     ]
    }
   ],
   "source": [
    "print(\"Test Accuracy: {:.4f}\".format(model.evaluate(X_test, y_test)[1]))"
   ]
  },
  {
   "cell_type": "markdown",
   "id": "3fd28e8f",
   "metadata": {},
   "source": [
    "## 시각화"
   ]
  },
  {
   "cell_type": "code",
   "execution_count": 12,
   "id": "f7d9486c",
   "metadata": {},
   "outputs": [
    {
     "data": {
      "image/png": "[encoded data removed]",
      "text/plain": [
       "<Figure size 432x288 with 1 Axes>"
      ]
     },
     "metadata": {
      "needs_background": "light"
     },
     "output_type": "display_data"
    }
   ],
   "source": [
    "y_vloss = history.history['val_loss']\n",
    "y_loss = history.history['loss']\n",
    "\n",
    "x_len = np.arange(len(y_loss))\n",
    "plt.plot(x_len, y_vloss, marker='.', c='red', label='Validation loss')\n",
    "plt.plot(x_len, y_loss, marker='.', c='blue', label='Train loss')\n",
    "plt.legend(loc = 'upper right')\n",
    "plt.grid()\n",
    "plt.xlabel('epoch')\n",
    "plt.ylabel('loss')\n",
    "plt.show()"
   ]
  }
 ],
 "metadata": {
  "kernelspec": {
   "display_name": "Python 3",
   "language": "python",
   "name": "python3"
  },
  "language_info": {
   "codemirror_mode": {
    "name": "ipython",
    "version": 3
   },
   "file_extension": ".py",
   "mimetype": "text/x-python",
   "name": "python",
   "nbconvert_exporter": "python",
   "pygments_lexer": "ipython3",
   "version": "3.6.13"
  }
 },
 "nbformat": 4,
 "nbformat_minor": 5
}
