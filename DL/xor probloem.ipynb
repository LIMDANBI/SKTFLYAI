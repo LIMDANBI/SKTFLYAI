{
 "cells": [
  {
   "cell_type": "code",
   "execution_count": 1,
   "id": "f6110d92",
   "metadata": {},
   "outputs": [],
   "source": [
    "import numpy as np"
   ]
  },
  {
   "cell_type": "code",
   "execution_count": 2,
   "id": "5ac1f7cc",
   "metadata": {},
   "outputs": [],
   "source": [
    "w11 = np.array([-2,-2])\n",
    "w12 = np.array([2,2])\n",
    "w2 = np.array([1,1])\n",
    "b1 = 3\n",
    "b2 = -1\n",
    "b3 = -1"
   ]
  },
  {
   "cell_type": "code",
   "execution_count": 3,
   "id": "9879c562",
   "metadata": {},
   "outputs": [],
   "source": [
    "def MLP(x, w, b):\n",
    "    y = np.sum(w*x)+b\n",
    "    if y<=0:\n",
    "        return 0;\n",
    "    else:\n",
    "        return 1"
   ]
  },
  {
   "cell_type": "code",
   "execution_count": 4,
   "id": "ad4e4589",
   "metadata": {},
   "outputs": [],
   "source": [
    "def NAND(x1, x2):\n",
    "    return MLP(np.array([x1, x2]), w11, b1)"
   ]
  },
  {
   "cell_type": "code",
   "execution_count": 5,
   "id": "72096528",
   "metadata": {},
   "outputs": [],
   "source": [
    "def OR(x1, x2):\n",
    "    return MLP(np.array([x1, x2]), w12, b2)"
   ]
  },
  {
   "cell_type": "code",
   "execution_count": 6,
   "id": "e8df73f5",
   "metadata": {},
   "outputs": [],
   "source": [
    "def AND(x1, x2):\n",
    "    return MLP(np.array([x1, x2]), w2, b3)"
   ]
  },
  {
   "cell_type": "code",
   "execution_count": 7,
   "id": "c6a62b20",
   "metadata": {},
   "outputs": [],
   "source": [
    "def XOR(x1, x2):\n",
    "    return AND(NAND(x1, x2), OR(x1,x2))"
   ]
  },
  {
   "cell_type": "code",
   "execution_count": 8,
   "id": "a8fb3bec",
   "metadata": {},
   "outputs": [
    {
     "name": "stdout",
     "output_type": "stream",
     "text": [
      "입력: (0, 0) | 출력: 0\n",
      "입력: (0, 1) | 출력: 1\n",
      "입력: (1, 0) | 출력: 1\n",
      "입력: (1, 1) | 출력: 0\n"
     ]
    }
   ],
   "source": [
    "for x in [(0,0), (0,1), (1,0), (1,1)]:\n",
    "    y = XOR(x[0], x[1])\n",
    "    print(\"입력: {} | 출력: {}\".format(x, y))"
   ]
  }
 ],
 "metadata": {
  "kernelspec": {
   "display_name": "Python 3 (ipykernel)",
   "language": "python",
   "name": "python3"
  },
  "language_info": {
   "codemirror_mode": {
    "name": "ipython",
    "version": 3
   },
   "file_extension": ".py",
   "mimetype": "text/x-python",
   "name": "python",
   "nbconvert_exporter": "python",
   "pygments_lexer": "ipython3",
   "version": "3.10.4"
  }
 },
 "nbformat": 4,
 "nbformat_minor": 5
}
